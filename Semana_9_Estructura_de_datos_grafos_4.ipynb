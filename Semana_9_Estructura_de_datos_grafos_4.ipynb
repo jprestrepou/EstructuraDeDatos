{
  "nbformat": 4,
  "nbformat_minor": 0,
  "metadata": {
    "colab": {
      "private_outputs": true,
      "provenance": []
    },
    "kernelspec": {
      "name": "python3",
      "display_name": "Python 3"
    },
    "language_info": {
      "name": "python"
    }
  },
  "cells": [
    {
      "cell_type": "code",
      "source": [
        "!pip install networkx matplotlib"
      ],
      "metadata": {
        "id": "HV61H6klkptS"
      },
      "execution_count": null,
      "outputs": []
    },
    {
      "cell_type": "code",
      "source": [
        "import networkx as nx\n",
        "import matplotlib.pyplot as plt\n",
        "\n",
        "# Crear un grafo no dirigido\n",
        "grafo = nx.Graph()\n",
        "\n",
        "# Añadir nodos y aristas\n",
        "grafo.add_edge('A', 'B')\n",
        "grafo.add_edge('A', 'C')\n",
        "grafo.add_edge('B', 'D')\n",
        "grafo.add_edge('C', 'D')\n",
        "grafo.add_edge('D', 'E')\n",
        "\n",
        "# Definir la posición de los nodos usando un layout\n",
        "pos = nx.spring_layout(grafo)\n",
        "\n",
        "# Dibujar el grafo\n",
        "nx.draw(grafo, pos, with_labels=True, node_color='lightgreen', node_size=2000,\n",
        "        font_size=12, font_color='black', font_weight='bold', edge_color='gray', width=2)\n",
        "\n",
        "# Añadir etiquetas opcionales a las aristas (opcional)\n",
        "labels = {('A', 'B'): '1', ('A', 'C'): '1', ('B', 'D'): '1', ('C', 'D'): '1', ('D', 'E'): '1'}\n",
        "nx.draw_networkx_edge_labels(grafo, pos, edge_labels=labels)\n",
        "\n",
        "# Mostrar el grafo\n",
        "plt.show()\n"
      ],
      "metadata": {
        "id": "L9M2xIfXk8aA"
      },
      "execution_count": null,
      "outputs": []
    },
    {
      "cell_type": "code",
      "execution_count": null,
      "metadata": {
        "id": "2eUct26UkI_b"
      },
      "outputs": [],
      "source": [
        "from collections import deque\n",
        "\n",
        "def bfs(grafo, nodo_inicial):\n",
        "    visitados = set()\n",
        "    cola = deque([nodo_inicial])\n",
        "    visitados.add(nodo_inicial)\n",
        "\n",
        "    while cola:\n",
        "        nodo = cola.popleft()\n",
        "        print(nodo, end=\" \")\n",
        "\n",
        "        for vecino in grafo[nodo]:\n",
        "            if vecino not in visitados:\n",
        "                visitados.add(vecino)\n",
        "                cola.append(vecino)\n",
        "\n",
        "# Definición de un grafo\n",
        "grafo = {\n",
        "    'A': ['B', 'C', 'E'],\n",
        "    'B': ['A', 'D'],\n",
        "    'C': ['A', 'D'],\n",
        "    'D': ['B', 'C', 'E'],\n",
        "    'E': ['D']\n",
        "}\n",
        "\n",
        "# Llamada al BFS desde el nodo 'A'\n",
        "bfs(grafo, 'A')\n"
      ]
    },
    {
      "cell_type": "code",
      "source": [
        "def dfs_iterativo(grafo, nodo_inicial):\n",
        "    visitados = set()\n",
        "    pila = [nodo_inicial]\n",
        "\n",
        "    while pila:\n",
        "        nodo = pila.pop()\n",
        "        if nodo not in visitados:\n",
        "            print(nodo, end=\" \")\n",
        "            visitados.add(nodo)\n",
        "\n",
        "            # Añadimos los vecinos a la pila, en orden inverso para respetar el orden correcto\n",
        "            for vecino in reversed(grafo[nodo]):\n",
        "                if vecino not in visitados:\n",
        "                    pila.append(vecino)\n",
        "\n",
        "# Llamada al DFS iterativo desde el nodo 'A'\n",
        "dfs_iterativo(grafo, 'A')\n"
      ],
      "metadata": {
        "id": "5vMOoxfNkMbj"
      },
      "execution_count": null,
      "outputs": []
    }
  ]
}