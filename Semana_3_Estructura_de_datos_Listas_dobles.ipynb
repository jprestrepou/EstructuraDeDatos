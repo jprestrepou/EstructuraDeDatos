{
  "nbformat": 4,
  "nbformat_minor": 0,
  "metadata": {
    "colab": {
      "provenance": []
    },
    "kernelspec": {
      "name": "python3",
      "display_name": "Python 3"
    },
    "language_info": {
      "name": "python"
    }
  },
  "cells": [
    {
      "cell_type": "markdown",
      "source": [
        "# **Nodo**"
      ],
      "metadata": {
        "id": "zqB9xtYlGMxa"
      }
    },
    {
      "cell_type": "code",
      "execution_count": null,
      "metadata": {
        "colab": {
          "base_uri": "https://localhost:8080/"
        },
        "id": "aBDW34ej_uok",
        "outputId": "5f39a62e-6ece-4e5c-ebe9-08ed781a5c59"
      },
      "outputs": [
        {
          "output_type": "stream",
          "name": "stdout",
          "text": [
            "10\n",
            "20\n",
            "30\n",
            "\n",
            "30\n",
            "20\n",
            "10\n"
          ]
        }
      ],
      "source": [
        "class Nodo:\n",
        "    def __init__(self, dato):\n",
        "        self.dato = dato\n",
        "        self.siguiente = None\n",
        "        self.anterior = None\n",
        "\n",
        "nodo1 = Nodo(10)\n",
        "nodo2 = Nodo(20)\n",
        "nodo3 = Nodo(30)\n",
        "\n",
        "nodo1.siguiente = nodo2\n",
        "nodo2.anterior = nodo1\n",
        "nodo2.siguiente = nodo3\n",
        "nodo3.anterior = nodo2\n",
        "\n",
        "nodo_actual = nodo1\n",
        "while nodo_actual is not None:\n",
        "    print(nodo_actual.dato)\n",
        "    nodo_actual = nodo_actual.siguiente\n",
        "\n",
        "print()\n",
        "\n",
        "nodo_actual = nodo3\n",
        "while nodo_actual is not None:\n",
        "    print(nodo_actual.dato)\n",
        "    nodo_actual = nodo_actual.anterior"
      ]
    },
    {
      "cell_type": "markdown",
      "source": [
        "# **Cabeza**"
      ],
      "metadata": {
        "id": "kte9z77BGIcz"
      }
    },
    {
      "cell_type": "code",
      "source": [
        "class Nodo:\n",
        "    def __init__(self, dato):\n",
        "        self.dato = dato\n",
        "        self.siguiente = None\n",
        "        self.anterior = None\n",
        "\n",
        "class ListaDoble:\n",
        "    def __init__(self):\n",
        "        self.cabeza = None\n",
        "\n",
        "    def insertar_al_principio(self, dato):\n",
        "        nuevo_nodo = Nodo(dato)\n",
        "        if self.cabeza is None:\n",
        "            self.cabeza = nuevo_nodo\n",
        "        else:\n",
        "            nuevo_nodo.siguiente = self.cabeza\n",
        "            self.cabeza.anterior = nuevo_nodo\n",
        "            self.cabeza = nuevo_nodo\n",
        "\n",
        "    def insertar_al_final(self, dato):\n",
        "        nuevo_nodo = Nodo(dato)\n",
        "        if self.cabeza is None:\n",
        "            self.cabeza = nuevo_nodo\n",
        "        else:\n",
        "            actual = self.cabeza\n",
        "            while actual.siguiente is not None:\n",
        "                actual = actual.siguiente\n",
        "            actual.siguiente = nuevo_nodo\n",
        "            nuevo_nodo.anterior = actual\n",
        "\n",
        "    def obtener_cola(self):\n",
        "        if self.cabeza is None:\n",
        "            return None\n",
        "        actual = self.cabeza\n",
        "        while actual.siguiente is not None:\n",
        "            actual = actual.siguiente\n",
        "        return actual.dato\n",
        "\n",
        "    def insertar_en_medio(self, dato, posicion):\n",
        "        nuevo_nodo = Nodo(dato)\n",
        "        if posicion == 0:\n",
        "            nuevo_nodo.siguiente = self.cabeza\n",
        "            if self.cabeza:\n",
        "                self.cabeza.anterior = nuevo_nodo\n",
        "            self.cabeza = nuevo_nodo\n",
        "        else:\n",
        "            contador = 0\n",
        "            actual = self.cabeza\n",
        "            while actual and contador < posicion:\n",
        "                anterior = actual\n",
        "                actual = actual.siguiente\n",
        "                contador += 1\n",
        "            anterior.siguiente = nuevo_nodo\n",
        "            nuevo_nodo.anterior = anterior\n",
        "            if actual:\n",
        "                actual.anterior = nuevo_nodo\n",
        "            nuevo_nodo.siguiente = actual\n",
        "\n",
        "    def imprimir_lista(self):\n",
        "        actual = self.cabeza\n",
        "        while actual:\n",
        "            print(actual.dato, end=\" \")\n",
        "            actual = actual.siguiente\n",
        "        print()\n",
        "\n",
        "    def obtener_cabeza(self):\n",
        "        return self.cabeza.dato if self.cabeza else None\n",
        "\n",
        "    def obtener_tamaño(self):\n",
        "        tamaño = 0\n",
        "        actual = self.cabeza\n",
        "        while actual:\n",
        "            tamaño += 1\n",
        "            actual = actual.siguiente\n",
        "        return tamaño"
      ],
      "metadata": {
        "id": "NDFti2MRGTTS"
      },
      "execution_count": 5,
      "outputs": []
    },
    {
      "cell_type": "code",
      "source": [
        "lista = ListaDoble()\n",
        "\n",
        "lista.insertar_al_principio(3)\n",
        "lista.insertar_al_principio(2)\n",
        "lista.insertar_al_principio(1)\n",
        "\n",
        "print(\"Lista después de insertar al principio:\")\n",
        "lista.imprimir_lista()\n",
        "print(\"Tamaño de la lista:\", lista.obtener_tamaño())\n",
        "print()\n",
        "\n",
        "lista.insertar_al_final(4)\n",
        "print(\"Tamaño de la lista:\", lista.obtener_tamaño())\n",
        "print()\n",
        "\n",
        "print(\"Lista después de insertar al final:\")\n",
        "lista.imprimir_lista()\n",
        "print(\"Tamaño de la lista:\", lista.obtener_tamaño())\n",
        "print()\n",
        "\n",
        "lista.insertar_en_medio(10, 2)\n",
        "\n",
        "print(\"Lista después de insertar en medio:\")\n",
        "lista.imprimir_lista()\n",
        "print(\"Tamaño de la lista:\", lista.obtener_tamaño())\n",
        "print()\n",
        "\n",
        "print(\"Cabeza de la lista:\", lista.obtener_cabeza())  # Debería imprimir 1\n",
        "print(\"Tamaño de la lista:\", lista.obtener_tamaño())\n",
        "print()"
      ],
      "metadata": {
        "colab": {
          "base_uri": "https://localhost:8080/"
        },
        "id": "sUhLsQ2lghrY",
        "outputId": "267bbdaf-3ffd-4384-b786-9580c91d5058"
      },
      "execution_count": 7,
      "outputs": [
        {
          "output_type": "stream",
          "name": "stdout",
          "text": [
            "Lista después de insertar al principio:\n",
            "1 2 3 \n",
            "Tamaño de la lista: 3\n",
            "\n",
            "Tamaño de la lista: 4\n",
            "\n",
            "Lista después de insertar al final:\n",
            "1 2 3 4 \n",
            "Tamaño de la lista: 4\n",
            "\n",
            "Lista después de insertar en medio:\n",
            "1 2 10 3 4 \n",
            "Tamaño de la lista: 5\n",
            "\n",
            "Cabeza de la lista: 1\n",
            "Tamaño de la lista: 5\n",
            "\n"
          ]
        }
      ]
    },
    {
      "cell_type": "markdown",
      "source": [
        "# **Comprobar si la lista es un palíndromo:**\n",
        "Agregar un método para verificar si la lista forma un palíndromo (puede basasrse en listas de python)\n",
        "\n",
        "Un palíndromo es una palabra, frase, número o cualquier otro tipo de secuencia de caracteres que se lee igual de adelante hacia atrás que de atrás hacia adelante. Es decir, es una secuencia que se lee igual en ambos sentidos."
      ],
      "metadata": {
        "id": "8fI55bwSgPu3"
      }
    },
    {
      "cell_type": "markdown",
      "source": [
        "# **Lista doblemente enlazada circular**"
      ],
      "metadata": {
        "id": "NhqvlWKfGvTr"
      }
    },
    {
      "cell_type": "code",
      "source": [
        "class Nodo:\n",
        "    def __init__(self, dato):\n",
        "        self.dato = dato\n",
        "        self.siguiente = None\n",
        "        self.anterior = None\n",
        "\n",
        "nodo1 = Nodo(10)\n",
        "nodo2 = Nodo(20)\n",
        "nodo3 = Nodo(30)\n",
        "\n",
        "nodo1.siguiente = nodo2\n",
        "nodo2.anterior = nodo1\n",
        "nodo2.siguiente = nodo3\n",
        "nodo3.anterior = nodo2\n",
        "\n",
        "nodo3.siguiente = nodo1\n",
        "nodo1.anterior = nodo3\n",
        "\n",
        "nodo_actual = nodo1\n",
        "while nodo_actual.siguiente != nodo1:\n",
        "    print(nodo_actual.dato)\n",
        "    nodo_actual = nodo_actual.siguiente\n",
        "print(nodo_actual.dato)\n",
        "print()\n",
        "\n",
        "nodo_actual = nodo3\n",
        "while nodo_actual.anterior != nodo3:\n",
        "    print(nodo_actual.dato)\n",
        "    nodo_actual = nodo_actual.anterior\n",
        "print(nodo_actual.dato)"
      ],
      "metadata": {
        "colab": {
          "base_uri": "https://localhost:8080/"
        },
        "id": "AQIOz7YbBXIq",
        "outputId": "b1889ccf-d1cf-4ddd-e603-ca4e2d702b3a"
      },
      "execution_count": null,
      "outputs": [
        {
          "output_type": "stream",
          "name": "stdout",
          "text": [
            "10\n",
            "20\n",
            "30\n",
            "\n",
            "30\n",
            "20\n",
            "10\n"
          ]
        }
      ]
    }
  ]
}