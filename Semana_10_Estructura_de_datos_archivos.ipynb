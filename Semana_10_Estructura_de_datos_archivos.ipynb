{
  "nbformat": 4,
  "nbformat_minor": 0,
  "metadata": {
    "colab": {
      "provenance": []
    },
    "kernelspec": {
      "name": "python3",
      "display_name": "Python 3"
    },
    "language_info": {
      "name": "python"
    }
  },
  "cells": [
    {
      "cell_type": "code",
      "execution_count": 2,
      "metadata": {
        "colab": {
          "base_uri": "https://localhost:8080/"
        },
        "id": "rdF4yagh9QO3",
        "outputId": "7136b9f5-ef16-40ce-f89d-c3d4342a4920"
      },
      "outputs": [
        {
          "output_type": "stream",
          "name": "stdout",
          "text": [
            "Tamaño físico del archivo: 42 bytes\n",
            "\n",
            "Contenido del archivo:\n",
            "Hola, mundo!\n",
            "Esta es una línea de texto.\n"
          ]
        }
      ],
      "source": [
        "import os\n",
        "\n",
        "with open('archivo.txt', 'w') as f:\n",
        "    f.write(\"Hola, mundo!\\nEsta es una línea de texto.\\n\")\n",
        "\n",
        "tamaño_fisico = os.path.getsize('archivo.txt')\n",
        "print(\"Tamaño físico del archivo:\", tamaño_fisico, \"bytes\")\n",
        "\n",
        "print(\"\\nContenido del archivo:\")\n",
        "with open('archivo.txt', 'r') as f:\n",
        "    for linea in f:\n",
        "        print(linea.strip())\n"
      ]
    },
    {
      "cell_type": "code",
      "source": [
        "import os\n",
        "from pathlib import Path\n",
        "\n",
        "def obtener_metadatos(archivo):\n",
        "    ruta = Path(archivo)\n",
        "    if ruta.is_file():\n",
        "        metadatos = {\n",
        "            \"Nombre\": ruta.name,\n",
        "            \"Tamaño (bytes)\": ruta.stat().st_size,\n",
        "            \"Fecha de creación\": os.path.getctime(archivo),\n",
        "            \"Fecha de modificación\": os.path.getmtime(archivo),\n",
        "            \"Tipo de archivo\": ruta.suffix,\n",
        "            \"Permisos de acceso\": os.stat(archivo).st_mode,\n",
        "            \"Propietario del archivo\": os.stat(archivo).st_uid,\n",
        "            \"Ruta del archivo\": ruta.absolute(),\n",
        "        }\n",
        "        return metadatos\n",
        "    else:\n",
        "        return \"El archivo no existe.\"\n",
        "\n",
        "archivo = \"archivo.txt\"  # Reemplaza \"ejemplo.txt\" con la ruta de tu archivo\n",
        "metadatos = obtener_metadatos(archivo)\n",
        "for clave, valor in metadatos.items():\n",
        "    print(f\"{clave}: {valor}\")\n",
        "\n"
      ],
      "metadata": {
        "colab": {
          "base_uri": "https://localhost:8080/"
        },
        "id": "WKPWTDcEB97a",
        "outputId": "f288f1d3-0236-496f-e9b5-80b062f7f1ef"
      },
      "execution_count": 4,
      "outputs": [
        {
          "output_type": "stream",
          "name": "stdout",
          "text": [
            "Nombre: archivo.txt\n",
            "Tamaño (bytes): 42\n",
            "Fecha de creación: 1713877010.920263\n",
            "Fecha de modificación: 1713877010.920263\n",
            "Tipo de archivo: .txt\n",
            "Permisos de acceso: 33188\n",
            "Propietario del archivo: 0\n",
            "Ruta del archivo: /content/archivo.txt\n"
          ]
        }
      ]
    }
  ]
}