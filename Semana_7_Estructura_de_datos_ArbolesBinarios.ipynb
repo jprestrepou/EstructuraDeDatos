{
  "nbformat": 4,
  "nbformat_minor": 0,
  "metadata": {
    "colab": {
      "provenance": []
    },
    "kernelspec": {
      "name": "python3",
      "display_name": "Python 3"
    },
    "language_info": {
      "name": "python"
    }
  },
  "cells": [
    {
      "cell_type": "code",
      "source": [
        "class Nodo:\n",
        "    def __init__(self, dato):\n",
        "        # \"dato\" puede ser de cualquier tipo, incluso un objeto si se sobrescriben los operadores de comparación\n",
        "        self.dato = dato\n",
        "        self.izquierda = None\n",
        "        self.derecha = None"
      ],
      "metadata": {
        "id": "lbcVr5Z5ndJM"
      },
      "execution_count": 3,
      "outputs": []
    },
    {
      "cell_type": "code",
      "execution_count": 1,
      "metadata": {
        "id": "JP0GD6xBnIOF"
      },
      "outputs": [],
      "source": [
        "class Arbol:\n",
        "    # Funciones privadas\n",
        "    def __init__(self, dato):\n",
        "        self.raiz = Nodo(dato)\n",
        "\n",
        "    def __agregar_recursivo(self, nodo, dato):\n",
        "        if dato < nodo.dato:\n",
        "            if nodo.izquierda is None:\n",
        "                nodo.izquierda = Nodo(dato)\n",
        "            else:\n",
        "                self.__agregar_recursivo(nodo.izquierda, dato)\n",
        "        else:\n",
        "            if nodo.derecha is None:\n",
        "                nodo.derecha = Nodo(dato)\n",
        "            else:\n",
        "                self.__agregar_recursivo(nodo.derecha, dato)\n",
        "\n",
        "    def __inorden_recursivo(self, nodo):\n",
        "        if nodo is not None:\n",
        "            self.__inorden_recursivo(nodo.izquierda)\n",
        "            print(nodo.dato, end=\", \")\n",
        "            self.__inorden_recursivo(nodo.derecha)\n",
        "\n",
        "    def __preorden_recursivo(self, nodo):\n",
        "        if nodo is not None:\n",
        "            print(nodo.dato, end=\", \")\n",
        "            self.__preorden_recursivo(nodo.izquierda)\n",
        "            self.__preorden_recursivo(nodo.derecha)\n",
        "\n",
        "    def __postorden_recursivo(self, nodo):\n",
        "        if nodo is not None:\n",
        "            self.__postorden_recursivo(nodo.izquierda)\n",
        "            self.__postorden_recursivo(nodo.derecha)\n",
        "            print(nodo.dato, end=\", \")\n",
        "\n",
        "    def __buscar(self, nodo, busqueda):\n",
        "        if nodo is None:\n",
        "            return None\n",
        "        if nodo.dato == busqueda:\n",
        "            return nodo\n",
        "        if busqueda < nodo.dato:\n",
        "            return self.__buscar(nodo.izquierda, busqueda)\n",
        "        else:\n",
        "            return self.__buscar(nodo.derecha, busqueda)\n",
        "\n",
        "    # Funciones públicas\n",
        "\n",
        "    def agregar(self, dato):\n",
        "        self.__agregar_recursivo(self.raiz, dato)\n",
        "\n",
        "    def inorden(self):\n",
        "        print(\"Imprimiendo árbol inorden: \")\n",
        "        self.__inorden_recursivo(self.raiz)\n",
        "        print(\"\")\n",
        "\n",
        "    def preorden(self):\n",
        "        print(\"Imprimiendo árbol preorden: \")\n",
        "        self.__preorden_recursivo(self.raiz)\n",
        "        print(\"\")\n",
        "\n",
        "    def postorden(self):\n",
        "        print(\"Imprimiendo árbol postorden: \")\n",
        "        self.__postorden_recursivo(self.raiz)\n",
        "        print(\"\")\n",
        "\n",
        "    def buscar(self, busqueda):\n",
        "        return self.__buscar(self.raiz, busqueda)"
      ]
    },
    {
      "cell_type": "code",
      "source": [
        "arbol = Arbol(\"Luis\")\n",
        "arbol.agregar(\"María José\")\n",
        "arbol.agregar(\"Maggie\")\n",
        "arbol.agregar(\"Leon\")\n",
        "arbol.agregar(\"Cuphead\")\n",
        "arbol.agregar(\"Aloy\")\n",
        "arbol.agregar(\"Jack\")\n",
        "nombre = input(\"Ingresa algo para agregar al árbol: \")\n",
        "arbol.agregar(nombre)\n",
        "arbol.preorden()\n",
        "arbol.inorden()\n",
        "arbol.postorden()\n",
        "# Búsqueda\n",
        "busqueda = input(\"Busca algo en el árbol: \")\n",
        "nodo = arbol.buscar(busqueda)\n",
        "if nodo is None:\n",
        "    print(f\"{busqueda} no existe\")\n",
        "else:\n",
        "    print(f\"{busqueda} sí existe\")"
      ],
      "metadata": {
        "colab": {
          "base_uri": "https://localhost:8080/"
        },
        "id": "Q0pEy5trnYmt",
        "outputId": "ed13ab23-e9a6-4fff-f65f-1030bd523487"
      },
      "execution_count": 4,
      "outputs": [
        {
          "output_type": "stream",
          "name": "stdout",
          "text": [
            "Ingresa algo para agregar al árbol: 12\n",
            "Imprimiendo árbol preorden: \n",
            "Luis, Leon, Cuphead, Aloy, 12, Jack, María José, Maggie, \n",
            "Imprimiendo árbol inorden: \n",
            "12, Aloy, Cuphead, Jack, Leon, Luis, Maggie, María José, \n",
            "Imprimiendo árbol postorden: \n",
            "12, Aloy, Jack, Cuphead, Leon, Maggie, María José, Luis, \n",
            "Busca algo en el árbol: 20\n",
            "20 no existe\n"
          ]
        }
      ]
    },
    {
      "cell_type": "code",
      "source": [
        "arbol_numeros = Arbol(5)\n",
        "arbol_numeros.agregar(1984)\n",
        "arbol_numeros.agregar(60)\n",
        "arbol_numeros.agregar(10)\n",
        "arbol_numeros.agregar(20)\n",
        "arbol_numeros.agregar(10)\n",
        "arbol_numeros.agregar(25)\n",
        "arbol_numeros.agregar(59)\n",
        "arbol_numeros.agregar(64)\n",
        "arbol_numeros.agregar(10)\n",
        "arbol_numeros.agregar(19)\n",
        "arbol_numeros.agregar(23)\n",
        "arbol_numeros.agregar(18)\n",
        "arbol_numeros.agregar(1)\n",
        "arbol_numeros.agregar(2013)\n",
        "arbol_numeros.preorden()\n",
        "arbol_numeros.inorden()\n",
        "arbol_numeros.postorden()\n",
        "\n",
        "busqueda = int(input(\"Ingresa un número para buscar en el árbol: \"))\n",
        "n = arbol_numeros.buscar(busqueda)\n",
        "if n is None:\n",
        "    print(f\"{busqueda} no existe\")\n",
        "else:\n",
        "    print(f\"{busqueda} sí existe\")"
      ],
      "metadata": {
        "colab": {
          "base_uri": "https://localhost:8080/"
        },
        "id": "LkOeYNY8tf5g",
        "outputId": "cb1b7cc9-ddf7-42d6-f39b-462d1631f29d"
      },
      "execution_count": 7,
      "outputs": [
        {
          "output_type": "stream",
          "name": "stdout",
          "text": [
            "Imprimiendo árbol preorden: \n",
            "5, 1, 1984, 60, 10, 20, 10, 10, 19, 18, 25, 23, 59, 64, 2013, \n",
            "Imprimiendo árbol inorden: \n",
            "1, 5, 10, 10, 10, 18, 19, 20, 23, 25, 59, 60, 64, 1984, 2013, \n",
            "Imprimiendo árbol postorden: \n",
            "1, 18, 19, 10, 10, 23, 59, 25, 20, 10, 64, 60, 2013, 1984, 5, \n",
            "Ingresa un número para buscar en el árbol: 20\n",
            "20 sí existe\n"
          ]
        }
      ]
    }
  ]
}