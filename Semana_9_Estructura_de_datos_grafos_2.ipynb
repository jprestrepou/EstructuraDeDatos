{
  "nbformat": 4,
  "nbformat_minor": 0,
  "metadata": {
    "colab": {
      "provenance": []
    },
    "kernelspec": {
      "name": "python3",
      "display_name": "Python 3"
    },
    "language_info": {
      "name": "python"
    }
  },
  "cells": [
    {
      "cell_type": "markdown",
      "source": [
        "# ***Búsqueda en profundidad (DFS)***"
      ],
      "metadata": {
        "id": "vOcnBK93IFJA"
      }
    },
    {
      "cell_type": "code",
      "execution_count": 9,
      "metadata": {
        "colab": {
          "base_uri": "https://localhost:8080/"
        },
        "id": "P3i7dOTVHh_z",
        "outputId": "cf0d54e8-c31a-4d4a-ab9e-07f1d4959ff5"
      },
      "outputs": [
        {
          "output_type": "stream",
          "name": "stdout",
          "text": [
            "Recorrido DFS:\n",
            "E\n",
            "B\n",
            "D\n"
          ]
        }
      ],
      "source": [
        "class Grafo:\n",
        "    def __init__(self):\n",
        "        self.vertices = {}\n",
        "\n",
        "    def agregar_vertice(self, vertice):\n",
        "        if vertice not in self.vertices:\n",
        "            self.vertices[vertice] = []\n",
        "\n",
        "    def agregar_arista(self, origen, destino):\n",
        "        if origen in self.vertices and destino in self.vertices:\n",
        "            self.vertices[origen].append(destino)\n",
        "\n",
        "    def dfs(self, vertice_inicial):\n",
        "        visitados = set()\n",
        "\n",
        "        def dfs_recursivo(vertice):\n",
        "            visitados.add(vertice)\n",
        "            print(vertice)  # Puedes modificar esta línea para adaptarla a tu necesidad\n",
        "\n",
        "            for vecino in self.vertices[vertice]:\n",
        "                if vecino not in visitados:\n",
        "                    dfs_recursivo(vecino)\n",
        "\n",
        "        dfs_recursivo(vertice_inicial)\n",
        "\n",
        "\n",
        "grafo = Grafo()\n",
        "grafo.agregar_vertice('A')\n",
        "grafo.agregar_vertice('B')\n",
        "grafo.agregar_vertice('C')\n",
        "grafo.agregar_vertice('D')\n",
        "grafo.agregar_vertice('E')\n",
        "\n",
        "grafo.agregar_arista('A', 'B')\n",
        "grafo.agregar_arista('A', 'C')\n",
        "grafo.agregar_arista('B', 'D')\n",
        "grafo.agregar_arista('C', 'D')\n",
        "grafo.agregar_arista('E', 'B')\n",
        "\n",
        "print(\"Recorrido DFS:\")\n",
        "grafo.dfs('E')\n"
      ]
    },
    {
      "cell_type": "markdown",
      "source": [
        "# ***Búsqueda en amplitud (BFS)***\n",
        "\n"
      ],
      "metadata": {
        "id": "vMsgDQneIKv3"
      }
    },
    {
      "cell_type": "code",
      "source": [
        "from collections import deque\n",
        "\n",
        "class Grafo:\n",
        "    def __init__(self):\n",
        "        self.vertices = {}\n",
        "\n",
        "    def agregar_vertice(self, vertice):\n",
        "        if vertice not in self.vertices:\n",
        "            self.vertices[vertice] = []\n",
        "\n",
        "    def agregar_arista(self, origen, destino):\n",
        "        if origen in self.vertices and destino in self.vertices:\n",
        "            self.vertices[origen].append(destino)\n",
        "\n",
        "    def bfs(self, vertice_inicial):\n",
        "        visitados = set()\n",
        "        cola = deque([vertice_inicial])\n",
        "\n",
        "        while cola:\n",
        "            vertice = cola.popleft()\n",
        "            if vertice not in visitados:\n",
        "                print(vertice)  # Puedes modificar esta línea para adaptarla a tu necesidad\n",
        "                visitados.add(vertice)\n",
        "                cola.extend(self.vertices[vertice])\n",
        "\n",
        "# Ejemplo de uso\n",
        "grafo = Grafo()\n",
        "grafo.agregar_vertice('A')\n",
        "grafo.agregar_vertice('B')\n",
        "grafo.agregar_vertice('C')\n",
        "grafo.agregar_vertice('D')\n",
        "grafo.agregar_vertice('E')\n",
        "\n",
        "grafo.agregar_arista('A', 'B')\n",
        "grafo.agregar_arista('A', 'C')\n",
        "grafo.agregar_arista('B', 'D')\n",
        "grafo.agregar_arista('C', 'D')\n",
        "grafo.agregar_arista('E', 'B')\n",
        "\n",
        "\n",
        "print(\"Recorrido bfs:\")\n",
        "grafo.bfs('E')"
      ],
      "metadata": {
        "id": "NeZqctkpIKk_",
        "colab": {
          "base_uri": "https://localhost:8080/"
        },
        "outputId": "6925f39f-ed1b-4f74-e5c1-d336c1d2baf8"
      },
      "execution_count": 7,
      "outputs": [
        {
          "output_type": "stream",
          "name": "stdout",
          "text": [
            "Recorrido bfs:\n",
            "E\n",
            "B\n",
            "D\n"
          ]
        }
      ]
    },
    {
      "cell_type": "markdown",
      "source": [
        "# ***Recorrido en preorden, inorden y postorden***"
      ],
      "metadata": {
        "id": "43b43uqRIU9g"
      }
    }
  ]
}