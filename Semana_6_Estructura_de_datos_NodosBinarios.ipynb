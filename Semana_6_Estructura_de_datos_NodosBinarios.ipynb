{
  "nbformat": 4,
  "nbformat_minor": 0,
  "metadata": {
    "colab": {
      "provenance": []
    },
    "kernelspec": {
      "name": "python3",
      "display_name": "Python 3"
    },
    "language_info": {
      "name": "python"
    }
  },
  "cells": [
    {
      "cell_type": "markdown",
      "source": [
        "# **Grafica arbol**"
      ],
      "metadata": {
        "id": "3NJO4f_-8VMU"
      }
    },
    {
      "cell_type": "code",
      "source": [
        "import pydot\n",
        "\n",
        "def dibujar_arbol(nodo, graph, parent_node=None, side=None):\n",
        "    if nodo:\n",
        "        current_node = pydot.Node(str(nodo.valor))\n",
        "\n",
        "        if parent_node:\n",
        "            if side == 'left':\n",
        "                graph.add_edge(pydot.Edge(parent_node, current_node, label='Left'))\n",
        "            elif side == 'right':\n",
        "                graph.add_edge(pydot.Edge(parent_node, current_node, label='Right'))\n",
        "\n",
        "        dibujar_arbol(nodo.izquierda, graph, current_node, 'left')\n",
        "        dibujar_arbol(nodo.derecha, graph, current_node, 'right')"
      ],
      "metadata": {
        "id": "Tev1ZF518QBP"
      },
      "execution_count": 7,
      "outputs": []
    },
    {
      "cell_type": "markdown",
      "source": [
        "# **Arbol Binario**"
      ],
      "metadata": {
        "id": "i1HfTgnb7tpV"
      }
    },
    {
      "cell_type": "code",
      "execution_count": 2,
      "metadata": {
        "id": "TV9orHby7no8"
      },
      "outputs": [],
      "source": [
        "class NodoBinario:\n",
        "    def __init__(self, valor):\n",
        "        self.valor = valor\n",
        "        self.izquierda = None\n",
        "        self.derecha = None"
      ]
    },
    {
      "cell_type": "code",
      "source": [
        "nodo = NodoBinario(5)\n",
        "\n",
        "nodo.izquierda = NodoBinario(3)\n",
        "nodo.derecha = NodoBinario(8)\n",
        "\n",
        "graph = pydot.Dot(graph_type='graph')\n",
        "dibujar_arbol(nodo, graph)\n",
        "graph.write_png('arbol_binario.png')"
      ],
      "metadata": {
        "id": "i7AbkBMA7sYl"
      },
      "execution_count": 8,
      "outputs": []
    },
    {
      "cell_type": "code",
      "source": [
        "nodo_raiz = NodoBinario(1)\n",
        "nodo_raiz.izquierda = NodoBinario(2)\n",
        "nodo_raiz.derecha = NodoBinario(3)\n",
        "nodo_raiz.izquierda.izquierda = NodoBinario(4)\n",
        "nodo_raiz.izquierda.derecha = NodoBinario(5)\n",
        "\n",
        "graph = pydot.Dot(graph_type='graph')\n",
        "dibujar_arbol(nodo_raiz, graph)\n",
        "graph.write_png('arbol_binario.png')"
      ],
      "metadata": {
        "id": "ev6I5pgx8Jcf"
      },
      "execution_count": 9,
      "outputs": []
    },
    {
      "cell_type": "code",
      "source": [
        "nodo_raiz = NodoBinario(1)\n",
        "nodo_raiz.izquierda = NodoBinario(2)\n",
        "nodo_raiz.izquierda.izquierda = NodoBinario(4)\n",
        "nodo_raiz.izquierda.izquierda.izquierda = NodoBinario(4)\n",
        "\n",
        "graph = pydot.Dot(graph_type='graph')\n",
        "dibujar_arbol(nodo_raiz, graph)\n",
        "graph.write_png('arbol_binario.png')"
      ],
      "metadata": {
        "id": "FAsH7QEs85_m"
      },
      "execution_count": 10,
      "outputs": []
    }
  ]
}