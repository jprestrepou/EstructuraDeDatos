{
  "nbformat": 4,
  "nbformat_minor": 0,
  "metadata": {
    "colab": {
      "provenance": []
    },
    "kernelspec": {
      "name": "python3",
      "display_name": "Python 3"
    },
    "language_info": {
      "name": "python"
    }
  },
  "cells": [
    {
      "cell_type": "code",
      "execution_count": 1,
      "metadata": {
        "id": "TPRKoRBl9dER"
      },
      "outputs": [],
      "source": [
        "serpList = [\"Boa\", \"Pitón\", \"Culebra venenosa\", \"Víbora Rayada\"]"
      ]
    },
    {
      "cell_type": "code",
      "source": [
        "serpList = list((\"Boa\", \"Pitón\", \"Culebra venenosa\", \"Víbora Rayada\"))"
      ],
      "metadata": {
        "id": "Yy3s0aiv9f70"
      },
      "execution_count": 2,
      "outputs": []
    },
    {
      "cell_type": "code",
      "source": [
        "print(serpList)"
      ],
      "metadata": {
        "colab": {
          "base_uri": "https://localhost:8080/"
        },
        "id": "75tIfQkg9hXr",
        "outputId": "7db5bb99-bbb0-4218-f514-518ec08beb16"
      },
      "execution_count": 3,
      "outputs": [
        {
          "output_type": "stream",
          "name": "stdout",
          "text": [
            "['Boa', 'Pitón', 'Culebra venenosa', 'Víbora Rayada']\n"
          ]
        }
      ]
    },
    {
      "cell_type": "code",
      "source": [
        "print(serpList[0:2])"
      ],
      "metadata": {
        "colab": {
          "base_uri": "https://localhost:8080/"
        },
        "id": "PdB3wW7w9i5b",
        "outputId": "87aefeea-eb06-4634-a876-591d667826f5"
      },
      "execution_count": 4,
      "outputs": [
        {
          "output_type": "stream",
          "name": "stdout",
          "text": [
            "['Boa', 'Pitón']\n"
          ]
        }
      ]
    },
    {
      "cell_type": "code",
      "source": [
        "print(serpList * 3)"
      ],
      "metadata": {
        "colab": {
          "base_uri": "https://localhost:8080/"
        },
        "id": "pLXq68QU9vOa",
        "outputId": "78a2e191-db35-41b5-f27d-be2ada5e1363"
      },
      "execution_count": 5,
      "outputs": [
        {
          "output_type": "stream",
          "name": "stdout",
          "text": [
            "['Boa', 'Pitón', 'Culebra venenosa', 'Víbora Rayada', 'Boa', 'Pitón', 'Culebra venenosa', 'Víbora Rayada', 'Boa', 'Pitón', 'Culebra venenosa', 'Víbora Rayada']\n"
          ]
        }
      ]
    },
    {
      "cell_type": "code",
      "source": [
        "serpList = [\"Boa\", \"Pitón\", \"Víbora Rayada\"]\n",
        "serpList = serpList * 3"
      ],
      "metadata": {
        "id": "ZCAE6Q_t91oI"
      },
      "execution_count": 6,
      "outputs": []
    },
    {
      "cell_type": "code",
      "source": [
        "serpList.append(\"Cobra\")"
      ],
      "metadata": {
        "id": "uIPn8bH9981Z"
      },
      "execution_count": null,
      "outputs": []
    },
    {
      "cell_type": "code",
      "source": [
        "serpList.index(\"Cobra\")"
      ],
      "metadata": {
        "id": "yZRLuXgY9_XH"
      },
      "execution_count": null,
      "outputs": []
    },
    {
      "cell_type": "code",
      "source": [
        "serpList.remove(\"Cobra\")"
      ],
      "metadata": {
        "id": "JP42rv82-A7w"
      },
      "execution_count": null,
      "outputs": []
    },
    {
      "cell_type": "code",
      "source": [
        "a = [13,5,7,2,1]\n",
        "a.sort()"
      ],
      "metadata": {
        "id": "ADL8-uGf-IQI"
      },
      "execution_count": null,
      "outputs": []
    },
    {
      "cell_type": "code",
      "source": [
        "a"
      ],
      "metadata": {
        "id": "6RVwjnhR-LaQ"
      },
      "execution_count": null,
      "outputs": []
    }
  ]
}