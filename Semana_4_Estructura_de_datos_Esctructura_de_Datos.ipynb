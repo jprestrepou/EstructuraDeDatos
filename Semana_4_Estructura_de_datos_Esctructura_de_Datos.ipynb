{
  "nbformat": 4,
  "nbformat_minor": 0,
  "metadata": {
    "colab": {
      "provenance": []
    },
    "kernelspec": {
      "name": "python3",
      "display_name": "Python 3"
    },
    "language_info": {
      "name": "python"
    }
  },
  "cells": [
    {
      "cell_type": "code",
      "execution_count": 30,
      "metadata": {
        "id": "mAbYn0oojNpz"
      },
      "outputs": [],
      "source": [
        "class MiArray:\n",
        "    def __init__(self, capacidad):\n",
        "        self.capacidad = capacidad\n",
        "        self.size = 0\n",
        "        self.data = [None] * capacidad\n",
        "\n",
        "    def __getitem__(self, index):\n",
        "        return self.data[index]\n",
        "\n",
        "    def __setitem__(self, index, value):\n",
        "        if index >= self.capacidad:\n",
        "            print(\"Índice fuera de rango.\")\n",
        "            return\n",
        "        self.data[index] = value\n",
        "        if index >= self.size:\n",
        "            self.size = index + 1\n",
        "\n",
        "    def append(self, value):\n",
        "        if self.size < self.capacidad:\n",
        "            self.data[self.size] = value\n",
        "            self.size += 1\n",
        "        else:\n",
        "            self.capacidad *= 2\n",
        "            new_data = [None] * self.capacidad\n",
        "            for i in range(self.size):\n",
        "                new_data[i] = self.data[i]\n",
        "            new_data[self.size] = value\n",
        "            self.size += 1\n",
        "            self.data = new_data\n",
        "\n",
        "    def delete(self, index):\n",
        "        if index < 0 or index >= self.size:\n",
        "            print(\"Índice fuera de rango.\")\n",
        "            return\n",
        "        for i in range(index, self.size - 1):\n",
        "            self.data[i] = self.data[i + 1]\n",
        "        self.data[self.size - 1] = None\n",
        "        self.size -= 1\n",
        "\n",
        "    def insert_at(self, index, value):\n",
        "        if index < 0 or index >= self.size:\n",
        "            print(\"Índice fuera de rango.\")\n",
        "            return\n",
        "        if self.size == self.capacidad:\n",
        "            self.capacidad *= 2\n",
        "            new_data = [None] * self.capacidad\n",
        "            for i in range(index):\n",
        "                new_data[i] = self.data[i]\n",
        "            new_data[index] = value\n",
        "            for i in range(index, self.size):\n",
        "                new_data[i+1] = self.data[i]\n",
        "            self.size += 1\n",
        "            self.data = new_data\n",
        "        else:\n",
        "            for i in range(self.size, index, -1):\n",
        "                self.data[i] = self.data[i - 1]\n",
        "            self.data[index] = value\n",
        "            self.size += 1\n",
        "\n",
        "    def __len__(self):\n",
        "        return self.size\n",
        "\n",
        "    def __str__(self):\n",
        "        return '[' + ', '.join(str(self.data[i]) for i in range(self.size)) + ']'\n"
      ]
    },
    {
      "cell_type": "code",
      "source": [
        "mi_array = MiArray(5)\n",
        "\n",
        "mi_array[0] = 1\n",
        "mi_array[1] = 2\n",
        "mi_array[2] = 3\n",
        "mi_array[3] = 4\n",
        "mi_array[4] = 5\n",
        "\n",
        "print(mi_array)\n",
        "print()\n",
        "mi_array.append(6)\n",
        "print(mi_array)\n",
        "print()\n",
        "mi_array.append(7)\n",
        "print(mi_array)\n",
        "print()\n",
        "mi_array.delete(2)\n",
        "print(mi_array)\n",
        "print()\n",
        "\n",
        "mi_array.insert_at(2, 8)\n",
        "print(mi_array)\n",
        "print()\n",
        "for i in range(len(mi_array)):\n",
        "    print(mi_array[i])"
      ],
      "metadata": {
        "colab": {
          "base_uri": "https://localhost:8080/"
        },
        "id": "5Qss2LPxkgeA",
        "outputId": "27700a0b-bdf1-48a4-b4d6-fd5c14f33e40"
      },
      "execution_count": 34,
      "outputs": [
        {
          "output_type": "stream",
          "name": "stdout",
          "text": [
            "[1, 2, 3, 4, 5]\n",
            "\n",
            "[1, 2, 3, 4, 5, 6]\n",
            "\n",
            "[1, 2, 3, 4, 5, 6, 7]\n",
            "\n",
            "[1, 2, 4, 5, 6, 7]\n",
            "\n",
            "[1, 2, 8, 4, 5, 6, 7]\n",
            "\n",
            "1\n",
            "2\n",
            "8\n",
            "4\n",
            "5\n",
            "6\n",
            "7\n"
          ]
        }
      ]
    },
    {
      "cell_type": "code",
      "source": [
        "for elemento in mi_array:\n",
        "    print(elemento)"
      ],
      "metadata": {
        "colab": {
          "base_uri": "https://localhost:8080/"
        },
        "id": "NNaOpTBokSAt",
        "outputId": "5d6d5851-865f-4054-bfe1-c6212ec83c7d"
      },
      "execution_count": 35,
      "outputs": [
        {
          "output_type": "stream",
          "name": "stdout",
          "text": [
            "1\n",
            "2\n",
            "8\n",
            "4\n",
            "5\n",
            "6\n",
            "7\n",
            "None\n",
            "None\n",
            "None\n"
          ]
        }
      ]
    },
    {
      "cell_type": "code",
      "source": [
        "for i in range(len(mi_array)):\n",
        "    print(mi_array[i])"
      ],
      "metadata": {
        "colab": {
          "base_uri": "https://localhost:8080/"
        },
        "id": "c1OmHzaakSrc",
        "outputId": "bb20475e-9210-4e55-89b9-064b1cfbb749"
      },
      "execution_count": 36,
      "outputs": [
        {
          "output_type": "stream",
          "name": "stdout",
          "text": [
            "1\n",
            "2\n",
            "8\n",
            "4\n",
            "5\n",
            "6\n",
            "7\n"
          ]
        }
      ]
    },
    {
      "cell_type": "code",
      "source": [
        "i = 0\n",
        "while i < len(mi_array):\n",
        "    print(mi_array[i])\n",
        "    i += 1"
      ],
      "metadata": {
        "colab": {
          "base_uri": "https://localhost:8080/"
        },
        "id": "4F71mLIYkUCW",
        "outputId": "c7f008c9-8988-4e60-e2d9-c421257da630"
      },
      "execution_count": 37,
      "outputs": [
        {
          "output_type": "stream",
          "name": "stdout",
          "text": [
            "1\n",
            "2\n",
            "8\n",
            "4\n",
            "5\n",
            "6\n",
            "7\n"
          ]
        }
      ]
    },
    {
      "cell_type": "code",
      "source": [
        "mi_array_1 = MiArray(5)\n",
        "mi_array_1[0] = 1\n",
        "mi_array_1[1] = 2\n",
        "mi_array_1[2] = 3\n",
        "mi_array_1[3] = 4\n",
        "mi_array_1[4] = 5\n",
        "\n",
        "mi_array_2 = MiArray(5)\n",
        "mi_array_2[0] = 1\n",
        "mi_array_2[1] = 2\n",
        "mi_array_2[2] = 3\n",
        "mi_array_2[3] = 4\n",
        "mi_array_2[4] = 5\n",
        "\n",
        "mi_array = MiArray(2)\n",
        "mi_array[0] = mi_array_1\n",
        "mi_array[1] = mi_array_2\n",
        "print(mi_array)\n",
        "\n",
        "print(len(mi_array[0]))"
      ],
      "metadata": {
        "colab": {
          "base_uri": "https://localhost:8080/"
        },
        "id": "o1j4wkqJwt9x",
        "outputId": "27434831-f977-4a93-a951-d098fe2ad2cb"
      },
      "execution_count": 40,
      "outputs": [
        {
          "output_type": "stream",
          "name": "stdout",
          "text": [
            "[[1, 2, 3, 4, 5], [1, 2, 3, 4, 5]]\n",
            "5\n"
          ]
        }
      ]
    },
    {
      "cell_type": "code",
      "source": [
        "import numpy as np\n",
        "mi_array = np.empty(5)\n",
        "print(mi_array)\n",
        "\n",
        "mi_array[0] = 1\n",
        "mi_array[1] = 2\n",
        "mi_array[2] = 3\n",
        "mi_array[3] = 4\n",
        "mi_array[4] = 5\n",
        "\n",
        "print(mi_array)\n",
        "\n",
        "mi_array = np.append(mi_array, 6)\n",
        "mi_array = np.append(mi_array, 7)\n",
        "\n",
        "mi_array = np.delete(mi_array, 2)\n",
        "\n",
        "mi_array = np.insert(mi_array, 2, 8)\n",
        "\n",
        "for elemento in mi_array:\n",
        "    print(elemento)\n"
      ],
      "metadata": {
        "colab": {
          "base_uri": "https://localhost:8080/"
        },
        "id": "fhcQAj8IlDCt",
        "outputId": "e31c4469-3d4e-4d70-f831-3007ec89d7a2"
      },
      "execution_count": 38,
      "outputs": [
        {
          "output_type": "stream",
          "name": "stdout",
          "text": [
            "[1. 2. 3. 4. 5.]\n",
            "[1. 2. 3. 4. 5.]\n",
            "1.0\n",
            "2.0\n",
            "8.0\n",
            "4.0\n",
            "5.0\n",
            "6.0\n",
            "7.0\n"
          ]
        }
      ]
    }
  ]
}