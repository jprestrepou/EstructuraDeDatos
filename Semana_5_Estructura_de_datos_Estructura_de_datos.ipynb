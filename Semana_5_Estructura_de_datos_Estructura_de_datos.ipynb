{
  "nbformat": 4,
  "nbformat_minor": 0,
  "metadata": {
    "colab": {
      "provenance": []
    },
    "kernelspec": {
      "name": "python3",
      "display_name": "Python 3"
    },
    "language_info": {
      "name": "python"
    }
  },
  "cells": [
    {
      "cell_type": "markdown",
      "source": [
        "# **Pila estatica (array)**"
      ],
      "metadata": {
        "id": "CBViF5RTdBd9"
      }
    },
    {
      "cell_type": "code",
      "execution_count": null,
      "metadata": {
        "id": "uKdBaPSBqUcm"
      },
      "outputs": [],
      "source": [
        "class StaticStack:\n",
        "    def __init__(self, max_size):\n",
        "        self.max_size = max_size\n",
        "        self.stack = [None] * max_size\n",
        "        self.top = -1\n",
        "\n",
        "    def size(self):\n",
        "        return self.top + 1\n",
        "\n",
        "    def push(self, item):\n",
        "        if self.top == self.max_size - 1:\n",
        "            print(\"La pila está llena\")\n",
        "            return\n",
        "        self.top += 1\n",
        "        self.stack[self.top] = item\n",
        "\n",
        "    def pop(self):\n",
        "        if self.top == -1:\n",
        "            print(\"La pila está vacía\")\n",
        "            return None\n",
        "        item = self.stack[self.top]\n",
        "        self.top -= 1\n",
        "        return item\n",
        "\n",
        "    def peek(self):\n",
        "        if self.top == -1:\n",
        "            print(\"La pila está vacía\")\n",
        "            return None\n",
        "        return self.stack[self.top]\n",
        "\n",
        "    def is_empty(self):\n",
        "        return self.top == -1"
      ]
    },
    {
      "cell_type": "code",
      "source": [
        "stack = StaticStack(5)\n",
        "print(\"Pila vacía:\", stack.is_empty())\n",
        "\n",
        "stack.push(1)\n",
        "stack.push(2)\n",
        "stack.push(3)\n",
        "print(\"Tamaño de la pila:\", stack.size())\n",
        "print(\"Pila estática:\", stack.stack)\n",
        "\n",
        "print(\"Pop de la pila:\", stack.pop())\n",
        "print(\"Tamaño de la pila después del pop:\", stack.size())\n",
        "\n",
        "print(\"Elemento superior de la pila (sin retirarlo):\", stack.peek())\n",
        "\n",
        "print(\"¿La pila está vacía?\", stack.is_empty())"
      ],
      "metadata": {
        "colab": {
          "base_uri": "https://localhost:8080/"
        },
        "id": "B3fdzDztsJHU",
        "outputId": "0f4fe686-2efd-40c0-a687-52727b0beaf5"
      },
      "execution_count": null,
      "outputs": [
        {
          "output_type": "stream",
          "name": "stdout",
          "text": [
            "Pila vacía: True\n",
            "Tamaño de la pila: 3\n",
            "Pila estática: [1, 2, 3, None, None]\n",
            "Pop de la pila: 3\n",
            "Tamaño de la pila después del pop: 2\n",
            "Elemento superior de la pila (sin retirarlo): 2\n",
            "¿La pila está vacía? False\n"
          ]
        }
      ]
    },
    {
      "cell_type": "markdown",
      "source": [
        "# **Pila estatica (Lista - Nodos)**"
      ],
      "metadata": {
        "id": "DViAxPERdJpe"
      }
    },
    {
      "cell_type": "code",
      "source": [
        "class Node:\n",
        "    def __init__(self, data):\n",
        "        self.data = data\n",
        "        self.next = None\n",
        "\n",
        "class StaticLinkedListStack:\n",
        "    def __init__(self, max_size):\n",
        "        self.max_size = max_size\n",
        "        self.size = 0\n",
        "        self.top = None\n",
        "\n",
        "    def push(self, item):\n",
        "        if self.size >= self.max_size:\n",
        "            print(\"La pila está llena\")\n",
        "            return\n",
        "        new_node = Node(item)\n",
        "        new_node.next = self.top\n",
        "        self.top = new_node\n",
        "        self.size += 1\n",
        "\n",
        "    def pop(self):\n",
        "        if self.size == 0:\n",
        "            print(\"La pila está vacía\")\n",
        "            return None\n",
        "        item = self.top.data\n",
        "        self.top = self.top.next\n",
        "        self.size -= 1\n",
        "        return item\n",
        "\n",
        "    def peek(self):\n",
        "        if self.size == 0:\n",
        "            print(\"La pila está vacía\")\n",
        "            return None\n",
        "        return self.top.data\n",
        "\n",
        "    def is_empty(self):\n",
        "        return self.size == 0"
      ],
      "metadata": {
        "colab": {
          "base_uri": "https://localhost:8080/"
        },
        "id": "eVrVPouUtVtT",
        "outputId": "59c26ab7-ab52-4a44-f1a7-0c92395d4ca1"
      },
      "execution_count": null,
      "outputs": [
        {
          "output_type": "stream",
          "name": "stdout",
          "text": [
            "Pila vacía: True\n",
            "Pila después de insertar elementos: 3\n",
            "Pop de la pila: 3\n",
            "Elemento superior de la pila: 2\n",
            "¿La pila está vacía? False\n"
          ]
        }
      ]
    },
    {
      "cell_type": "code",
      "source": [
        "stack = StaticLinkedListStack(5)\n",
        "print(\"Pila vacía:\", stack.is_empty())\n",
        "\n",
        "stack.push(1)\n",
        "stack.push(2)\n",
        "stack.push(3)\n",
        "print(\"Pila después de insertar elementos:\", stack.peek())\n",
        "\n",
        "print(\"Pop de la pila:\", stack.pop())\n",
        "print(\"Elemento superior de la pila:\", stack.peek())\n",
        "\n",
        "print(\"¿La pila está vacía?\", stack.is_empty())"
      ],
      "metadata": {
        "id": "sZz4w6djdSb3"
      },
      "execution_count": null,
      "outputs": []
    },
    {
      "cell_type": "markdown",
      "source": [
        "# **Pila dinamica (Lista - Nodo)**"
      ],
      "metadata": {
        "id": "DcwD2EEIdTaZ"
      }
    },
    {
      "cell_type": "code",
      "source": [
        "class Node:\n",
        "    def __init__(self, data):\n",
        "        self.data = data\n",
        "        self.next = None\n",
        "\n",
        "class DynamicLinkedListStack:\n",
        "    def __init__(self):\n",
        "        self.top = None\n",
        "        self.size = 0\n",
        "\n",
        "    def push(self, item):\n",
        "        new_node = Node(item)\n",
        "        new_node.next = self.top\n",
        "        self.top = new_node\n",
        "        self.size += 1\n",
        "\n",
        "    def pop(self):\n",
        "        if not self.top:\n",
        "            print(\"La pila está vacía\")\n",
        "            return None\n",
        "        item = self.top.data\n",
        "        self.top = self.top.next\n",
        "        self.size -= 1\n",
        "        return item\n",
        "\n",
        "    def peek(self):\n",
        "        if not self.top:\n",
        "            print(\"La pila está vacía\")\n",
        "            return None\n",
        "        return self.top.data\n",
        "\n",
        "    def is_empty(self):\n",
        "        return self.top is None\n",
        "\n",
        "    def get_size(self):\n",
        "        return self.size\n",
        "\n",
        "    def __str__(self):\n",
        "      if self.is_empty():\n",
        "          return \"La pila está vacía\"\n",
        "      current_node = self.top\n",
        "      elements = []\n",
        "      while current_node:\n",
        "          elements.append(str(current_node.data))\n",
        "          current_node = current_node.next\n",
        "      return ' '.join(elements)"
      ],
      "metadata": {
        "id": "631EG4J8cx6f"
      },
      "execution_count": null,
      "outputs": []
    },
    {
      "cell_type": "code",
      "source": [
        "stack = DynamicLinkedListStack()\n",
        "print(\"Tamaño de la pila:\", stack.get_size())\n",
        "print(stack)\n",
        "\n",
        "stack.push(1)\n",
        "stack.push(2)\n",
        "stack.push(3)\n",
        "print(stack)\n",
        "print(\"Tamaño de la pila después de insertar elementos:\", stack.get_size())\n",
        "\n",
        "print(\"Pop de la pila:\", stack.pop())\n",
        "print(stack)\n",
        "print(\"Tamaño de la pila después del pop:\", stack.get_size())"
      ],
      "metadata": {
        "colab": {
          "base_uri": "https://localhost:8080/"
        },
        "id": "NSi49blUdgov",
        "outputId": "f6286b88-eca3-4236-acb2-6440e2c82ba3"
      },
      "execution_count": null,
      "outputs": [
        {
          "output_type": "stream",
          "name": "stdout",
          "text": [
            "Tamaño de la pila: 0\n",
            "La pila está vacía\n",
            "3 2 1\n",
            "Tamaño de la pila después de insertar elementos: 3\n",
            "Pop de la pila: 3\n",
            "2 1\n",
            "Tamaño de la pila después del pop: 2\n"
          ]
        }
      ]
    },
    {
      "cell_type": "code",
      "source": [
        "print(stack)"
      ],
      "metadata": {
        "colab": {
          "base_uri": "https://localhost:8080/"
        },
        "id": "72Faa_MgeEUW",
        "outputId": "882a0c23-4813-44ff-f782-47613b1e5bac"
      },
      "execution_count": null,
      "outputs": [
        {
          "output_type": "stream",
          "name": "stdout",
          "text": [
            "2 1\n"
          ]
        }
      ]
    },
    {
      "cell_type": "code",
      "source": [
        "pila = []\n",
        "\n",
        "def push(elemento):\n",
        "    pila.append(elemento)\n",
        "    print(f\"Elemento '{elemento}' añadido a la pila.\")\n",
        "\n",
        "def pop():\n",
        "    if len(pila) == 0:\n",
        "        print(\"La pila está vacía. No hay elementos para desapilar.\")\n",
        "        return None\n",
        "    elemento = pila.pop()\n",
        "    print(f\"Elemento '{elemento}' desapilado.\")\n",
        "    return elemento\n",
        "\n",
        "def peek():\n",
        "    if len(pila) == 0:\n",
        "        print(\"La pila está vacía.\")\n",
        "        return None\n",
        "    elemento = pila[-1]\n",
        "    print(f\"Elemento en la cima de la pila: '{elemento}'\")\n",
        "    return elemento\n",
        "\n",
        "def esta_vacia():\n",
        "    vacia = len(pila) == 0\n",
        "    print(f\"La pila está vacía: {vacia}\")\n",
        "    return vacia\n",
        "\n",
        "push(1)\n",
        "push(2)\n",
        "push(3)\n",
        "peek()\n",
        "pop()\n",
        "peek()\n",
        "esta_vacia()\n",
        "pop()\n",
        "pop()\n",
        "esta_vacia()\n",
        "pop()"
      ],
      "metadata": {
        "id": "NAXcVXHOUNlk"
      },
      "execution_count": null,
      "outputs": []
    },
    {
      "cell_type": "markdown",
      "source": [
        "# **Cola estatica**"
      ],
      "metadata": {
        "id": "Nwh9niiv07y1"
      }
    },
    {
      "cell_type": "code",
      "source": [
        "class ColaEstatica:\n",
        "    def __init__(self, capacidad):\n",
        "        self.capacidad = capacidad\n",
        "        self.datos = [None] * capacidad\n",
        "        self.inicio = 0\n",
        "        self.fin = 0\n",
        "        self.tamano = 0\n",
        "\n",
        "    def encolar(self, elemento):\n",
        "        if self.tamano == self.capacidad:\n",
        "            print(\"La cola está llena.\")\n",
        "            return\n",
        "        self.datos[self.fin] = elemento\n",
        "        self.fin = (self.fin + 1) % self.capacidad\n",
        "        self.tamano += 1\n",
        "\n",
        "    def desencolar(self):\n",
        "        if self.tamano == 0:\n",
        "            print(\"La cola está vacía.\")\n",
        "            return None\n",
        "        elemento = self.datos[self.inicio]\n",
        "        self.inicio = (self.inicio + 1) % self.capacidad\n",
        "        self.tamano -= 1\n",
        "        return elemento\n",
        "\n",
        "    def esta_vacia(self):\n",
        "        return self.tamano == 0\n",
        "\n",
        "    def ver_primero(self):\n",
        "        if self.tamano == 0:\n",
        "            print(\"La cola está vacía.\")\n",
        "            return None\n",
        "        return self.datos[self.inicio]\n"
      ],
      "metadata": {
        "id": "NDrYncQB1COa"
      },
      "execution_count": null,
      "outputs": []
    },
    {
      "cell_type": "code",
      "source": [
        "cola = ColaEstatica(5)\n",
        "cola.encolar(1)\n",
        "cola.encolar(2)\n",
        "cola.encolar(3)\n",
        "\n",
        "print(\"Elemento en el frente de la cola:\", cola.ver_primero())\n",
        "\n",
        "print(\"Desencolando elementos:\")\n",
        "print(cola.desencolar())\n",
        "print(cola.desencolar())\n",
        "print(cola.desencolar())\n",
        "print(cola.desencolar())"
      ],
      "metadata": {
        "colab": {
          "base_uri": "https://localhost:8080/"
        },
        "id": "RprZeO6g1Fno",
        "outputId": "f3c28c1e-a55b-479b-956f-2f7c3146d4b4"
      },
      "execution_count": null,
      "outputs": [
        {
          "output_type": "stream",
          "name": "stdout",
          "text": [
            "Elemento en el frente de la cola: 1\n",
            "Desencolando elementos:\n",
            "1\n",
            "2\n",
            "3\n",
            "La cola está vacía.\n",
            "None\n"
          ]
        }
      ]
    },
    {
      "cell_type": "markdown",
      "source": [
        "# **Cola dinamica**"
      ],
      "metadata": {
        "id": "wec3Q-Xe0-KW"
      }
    },
    {
      "cell_type": "code",
      "source": [
        "class Nodo:\n",
        "    def __init__(self, valor):\n",
        "        self.valor = valor\n",
        "        self.siguiente = None\n",
        "\n",
        "\n",
        "class ColaDinamica:\n",
        "    def __init__(self):\n",
        "        self.primero = None\n",
        "        self.ultimo = None\n",
        "\n",
        "    def encolar(self, valor):\n",
        "        nuevo_nodo = Nodo(valor)\n",
        "        if self.ultimo is None:\n",
        "            self.primero = nuevo_nodo\n",
        "        else:\n",
        "            self.ultimo.siguiente = nuevo_nodo\n",
        "        self.ultimo = nuevo_nodo\n",
        "\n",
        "    def desencolar(self):\n",
        "        if self.primero is None:\n",
        "            print(\"La cola está vacía.\")\n",
        "            return None\n",
        "        valor = self.primero.valor\n",
        "        self.primero = self.primero.siguiente\n",
        "        if self.primero is None:\n",
        "            self.ultimo = None\n",
        "        return valor\n",
        "\n",
        "    def esta_vacia(self):\n",
        "        return self.primero is None\n",
        "\n",
        "    def ver_primero(self):\n",
        "        if self.primero is None:\n",
        "            print(\"La cola está vacía.\")\n",
        "            return None\n",
        "        return self.primero.valor\n"
      ],
      "metadata": {
        "id": "l61YAMWF1Cty"
      },
      "execution_count": null,
      "outputs": []
    },
    {
      "cell_type": "code",
      "source": [
        "cola = ColaDinamica()\n",
        "cola.encolar(1)\n",
        "cola.encolar(2)\n",
        "cola.encolar(3)\n",
        "\n",
        "print(\"Elemento en el frente de la cola:\", cola.ver_primero())\n",
        "\n",
        "print(\"Desencolando elementos:\")\n",
        "print(cola.desencolar())\n",
        "print(cola.desencolar())\n",
        "print(cola.desencolar())\n",
        "print(cola.desencolar())"
      ],
      "metadata": {
        "colab": {
          "base_uri": "https://localhost:8080/"
        },
        "id": "pGpG4TKc1SdC",
        "outputId": "3559fa93-401f-4272-91c7-d73f5c77f928"
      },
      "execution_count": null,
      "outputs": [
        {
          "output_type": "stream",
          "name": "stdout",
          "text": [
            "Elemento en el frente de la cola: 1\n",
            "Desencolando elementos:\n",
            "1\n",
            "2\n",
            "3\n",
            "La cola está vacía.\n",
            "None\n"
          ]
        }
      ]
    }
  ]
}