{
  "nbformat": 4,
  "nbformat_minor": 0,
  "metadata": {
    "colab": {
      "private_outputs": true,
      "provenance": []
    },
    "kernelspec": {
      "name": "python3",
      "display_name": "Python 3"
    },
    "language_info": {
      "name": "python"
    }
  },
  "cells": [
    {
      "cell_type": "code",
      "execution_count": null,
      "metadata": {
        "id": "-JWCXqwCfycE"
      },
      "outputs": [],
      "source": [
        "!pip install binarytree"
      ]
    },
    {
      "cell_type": "code",
      "source": [
        "from binarytree import Node, bst, build\n",
        "\n",
        "root = Node(3)\n",
        "root.left = Node(6)\n",
        "root.right = Node(8)\n",
        "root.left.left = Node(2)\n",
        "root.left.right = Node(11)\n",
        "print(\"Árbol binario:\")\n",
        "print(root)\n",
        "\n",
        "binary_search_tree = bst(height=3, is_perfect=False)\n",
        "print(\"\\nÁrbol binario de búsqueda aleatorio:\")\n",
        "print(binary_search_tree)\n",
        "\n",
        "values = [7, 3, 10, 1, 5, 9, 12]\n",
        "built_tree = build(values)\n",
        "print(\"\\nÁrbol binario creado a partir de una lista:\")\n",
        "print(built_tree)"
      ],
      "metadata": {
        "id": "-JyJjqZZf8c5"
      },
      "execution_count": null,
      "outputs": []
    }
  ]
}