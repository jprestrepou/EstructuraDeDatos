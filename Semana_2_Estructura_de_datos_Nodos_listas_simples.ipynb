{
  "nbformat": 4,
  "nbformat_minor": 0,
  "metadata": {
    "colab": {
      "provenance": []
    },
    "kernelspec": {
      "name": "python3",
      "display_name": "Python 3"
    },
    "language_info": {
      "name": "python"
    }
  },
  "cells": [
    {
      "cell_type": "markdown",
      "source": [
        "# **Ejemplo de nodos**\n",
        "\n",
        "\n"
      ],
      "metadata": {
        "id": "MG2R_Eo5ogbK"
      }
    },
    {
      "cell_type": "code",
      "execution_count": 1,
      "metadata": {
        "colab": {
          "base_uri": "https://localhost:8080/"
        },
        "id": "yb-mkoFXoScT",
        "outputId": "745921e2-d185-4fd1-dda8-d038e76cc363"
      },
      "outputs": [
        {
          "output_type": "stream",
          "name": "stdout",
          "text": [
            "10\n",
            "20\n",
            "30\n"
          ]
        }
      ],
      "source": [
        "class Nodo:\n",
        "    def __init__(self, dato):\n",
        "        self.dato = dato\n",
        "        self.siguiente = None\n",
        "\n",
        "# Ejemplo de uso\n",
        "nodo1 = Nodo(10)\n",
        "nodo2 = Nodo(20)\n",
        "nodo3 = Nodo(30)\n",
        "\n",
        "nodo1.siguiente = nodo2\n",
        "nodo2.siguiente = nodo3\n",
        "\n",
        "nodo_actual = nodo1\n",
        "while nodo_actual is not None:\n",
        "    print(nodo_actual.dato)\n",
        "    nodo_actual = nodo_actual.siguiente\n"
      ]
    },
    {
      "cell_type": "markdown",
      "source": [
        "# **Cabeza**"
      ],
      "metadata": {
        "id": "XW3vGxYWEvrw"
      }
    },
    {
      "cell_type": "code",
      "source": [
        "class Nodo:\n",
        "    def __init__(self, dato):\n",
        "        self.dato = dato\n",
        "        self.siguiente = None\n",
        "\n",
        "class ListaEnlazada:\n",
        "    def __init__(self):\n",
        "        self.cabeza = None\n",
        "\n",
        "    def insertar_al_principio(self, dato):\n",
        "        nuevo_nodo = Nodo(dato)\n",
        "        nuevo_nodo.siguiente = self.cabeza\n",
        "        self.cabeza = nuevo_nodo\n",
        "\n",
        "    def imprimir_lista(self):\n",
        "        nodo_actual = self.cabeza\n",
        "        while nodo_actual:\n",
        "            print(f'Dato: {nodo_actual.dato}, Puntero actual: {id(nodo_actual)}, Puntero siguiente: {id(nodo_actual.siguiente) if nodo_actual.siguiente else None}')\n",
        "            nodo_actual = nodo_actual.siguiente\n",
        "\n",
        "# Ejemplo de uso\n",
        "lista = ListaEnlazada()\n",
        "lista.insertar_al_principio(5)\n",
        "lista.insertar_al_principio(10)\n",
        "lista.insertar_al_principio(1)\n",
        "lista.imprimir_lista()"
      ],
      "metadata": {
        "id": "F6cGfUT2EvQJ",
        "colab": {
          "base_uri": "https://localhost:8080/"
        },
        "outputId": "a99317da-7e35-4c55-e6f9-8c09e3b392a0"
      },
      "execution_count": 7,
      "outputs": [
        {
          "output_type": "stream",
          "name": "stdout",
          "text": [
            "Dato: 1, Puntero actual: 133120560764128, Puntero siguiente: 133120560770752\n",
            "Dato: 10, Puntero actual: 133120560770752, Puntero siguiente: 133120560765808\n",
            "Dato: 5, Puntero actual: 133120560765808, Puntero siguiente: None\n"
          ]
        }
      ]
    },
    {
      "cell_type": "markdown",
      "source": [
        "# **Operaciones**"
      ],
      "metadata": {
        "id": "kageOYyCFWe5"
      }
    },
    {
      "cell_type": "code",
      "source": [
        "class Nodo:\n",
        "    def __init__(self, dato):\n",
        "        self.dato = dato\n",
        "        self.siguiente = None\n",
        "\n",
        "class ListaEnlazada:\n",
        "    def __init__(self):\n",
        "        self.cabeza = None\n",
        "\n",
        "    def esta_vacia(self):\n",
        "        return self.cabeza is None\n",
        "\n",
        "    def insertar_al_principio(self, dato):\n",
        "        nuevo_nodo = Nodo(dato)\n",
        "        nuevo_nodo.siguiente = self.cabeza\n",
        "        self.cabeza = nuevo_nodo\n",
        "\n",
        "    def insertar_al_final(self, dato):\n",
        "        nuevo_nodo = Nodo(dato)\n",
        "        if self.cabeza is None:\n",
        "            self.cabeza = nuevo_nodo\n",
        "            return\n",
        "\n",
        "        actual = self.cabeza\n",
        "        while actual.siguiente is not None:\n",
        "            actual = actual.siguiente\n",
        "        actual.siguiente = nuevo_nodo\n",
        "\n",
        "    def elemento_existe(self, elemento):\n",
        "        actual = self.cabeza\n",
        "        while actual is not None:\n",
        "            if actual.dato == elemento:\n",
        "                return True\n",
        "            actual = actual.siguiente\n",
        "        return False\n",
        "\n",
        "    def imprimir_lista(self):\n",
        "      nodo_actual = self.cabeza\n",
        "      while nodo_actual:\n",
        "          print(nodo_actual.dato)\n",
        "          nodo_actual = nodo_actual.siguiente\n",
        "\n",
        "    def eliminar(self, elemento):\n",
        "        if self.cabeza is None:\n",
        "            return\n",
        "\n",
        "        if self.cabeza.dato == elemento:\n",
        "            self.cabeza = self.cabeza.siguiente\n",
        "            return\n",
        "\n",
        "        anterior = self.cabeza\n",
        "        actual = self.cabeza.siguiente\n",
        "        while actual is not None:\n",
        "            if actual.dato == elemento:\n",
        "                anterior.siguiente = actual.siguiente\n",
        "                return\n",
        "            anterior = actual\n",
        "            actual = actual.siguiente"
      ],
      "metadata": {
        "id": "RRkXNK7cFUbw"
      },
      "execution_count": null,
      "outputs": []
    },
    {
      "cell_type": "code",
      "source": [
        "# lista enlazada\n",
        "lista = ListaEnlazada()\n",
        "\n",
        "# elementos al principio de la lista\n",
        "lista.insertar_al_principio(5)\n",
        "lista.insertar_al_principio(10)\n",
        "lista.insertar_al_principio(15)\n",
        "\n",
        "# elemento al final de la lista\n",
        "lista.insertar_al_final(20)\n",
        "\n",
        "# Imprimir la lista\n",
        "print(\"Lista actual:\")\n",
        "lista.imprimir_lista()\n",
        "print()\n",
        "\n",
        "# elemento existe\n",
        "print(\"¿Existe el elemento 10 en la lista?\", lista.elemento_existe(10))\n",
        "print(\"¿Existe el elemento 25 en la lista?\", lista.elemento_existe(25))\n",
        "print()\n",
        "\n",
        "# Eliminar elemento\n",
        "lista.eliminar(10)\n",
        "\n",
        "# Imprimir la lista\n",
        "print(\"Lista después de eliminar el elemento 10:\")\n",
        "lista.imprimir_lista()\n"
      ],
      "metadata": {
        "colab": {
          "base_uri": "https://localhost:8080/"
        },
        "id": "8QcZfLjlzgo4",
        "outputId": "0a41ef13-d39b-436d-9e08-040dd55853bf"
      },
      "execution_count": null,
      "outputs": [
        {
          "output_type": "stream",
          "name": "stdout",
          "text": [
            "Lista actual:\n",
            "15\n",
            "10\n",
            "5\n",
            "20\n",
            "\n",
            "¿Existe el elemento 10 en la lista? True\n",
            "¿Existe el elemento 25 en la lista? False\n",
            "\n",
            "Lista después de eliminar el elemento 10:\n",
            "15\n",
            "5\n",
            "20\n"
          ]
        }
      ]
    }
  ]
}