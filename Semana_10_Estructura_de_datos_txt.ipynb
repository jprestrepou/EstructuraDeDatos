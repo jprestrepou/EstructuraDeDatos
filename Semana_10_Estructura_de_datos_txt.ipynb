{
  "nbformat": 4,
  "nbformat_minor": 0,
  "metadata": {
    "colab": {
      "provenance": []
    },
    "kernelspec": {
      "name": "python3",
      "display_name": "Python 3"
    },
    "language_info": {
      "name": "python"
    }
  },
  "cells": [
    {
      "cell_type": "code",
      "execution_count": 4,
      "metadata": {
        "id": "SNR5XyM2i8y8"
      },
      "outputs": [],
      "source": [
        "# Abrir un archivo en modo de escritura ('w')\n",
        "with open('archivo.txt', 'w') as archivo:\n",
        "    # Escribir líneas en el archivo\n",
        "    archivo.write(\"Este es un ejemplo de archivo de texto.\\n\")\n",
        "    archivo.write(\"Aquí podemos escribir varias líneas.\\n\")\n",
        "    archivo.write(\"También podemos agregar más texto.\\n\")\n"
      ]
    },
    {
      "cell_type": "code",
      "source": [
        "with open('archivo.txt', 'r') as archivo:\n",
        "    lineas = archivo.readlines()\n",
        "    for linea in lineas:\n",
        "        print(linea.strip())\n"
      ],
      "metadata": {
        "colab": {
          "base_uri": "https://localhost:8080/"
        },
        "id": "1QeC4gSDjESZ",
        "outputId": "ed487ff0-8d96-47a3-9c07-620623a9f6ee"
      },
      "execution_count": 5,
      "outputs": [
        {
          "output_type": "stream",
          "name": "stdout",
          "text": [
            "Este es un ejemplo de archivo de texto.\n",
            "Aquí podemos escribir varias líneas.\n",
            "También podemos agregar más texto.\n"
          ]
        }
      ]
    },
    {
      "cell_type": "code",
      "source": [
        "with open(\"archivo.txt\", \"r\") as file:\n",
        "    data = file.read(10)\n",
        "    print(data)\n"
      ],
      "metadata": {
        "colab": {
          "base_uri": "https://localhost:8080/"
        },
        "id": "rLg7meqxmQpA",
        "outputId": "eedd4337-e80b-456c-e4a6-fe804f796a39"
      },
      "execution_count": 6,
      "outputs": [
        {
          "output_type": "stream",
          "name": "stdout",
          "text": [
            "Este es un\n"
          ]
        }
      ]
    },
    {
      "cell_type": "code",
      "source": [
        "with open(\"archivo.txt\", \"r\") as file:\n",
        "    line = file.readline()\n",
        "    print(line)"
      ],
      "metadata": {
        "colab": {
          "base_uri": "https://localhost:8080/"
        },
        "id": "K3cbhWakmdRQ",
        "outputId": "ba3e0d56-98da-452c-a3c0-ec808e7839b6"
      },
      "execution_count": 7,
      "outputs": [
        {
          "output_type": "stream",
          "name": "stdout",
          "text": [
            "Este es un ejemplo de archivo de texto.\n",
            "\n"
          ]
        }
      ]
    },
    {
      "cell_type": "code",
      "source": [
        "with open(\"archivo.txt\", \"r\") as file:\n",
        "    lines = file.readlines()\n",
        "    print(lines)\n"
      ],
      "metadata": {
        "colab": {
          "base_uri": "https://localhost:8080/"
        },
        "id": "sXWFXSn8mhxS",
        "outputId": "b481b33b-b2a1-4938-bdf6-e9fab75c277a"
      },
      "execution_count": 8,
      "outputs": [
        {
          "output_type": "stream",
          "name": "stdout",
          "text": [
            "['Este es un ejemplo de archivo de texto.\\n', 'Aquí podemos escribir varias líneas.\\n', 'También podemos agregar más texto.\\n']\n"
          ]
        }
      ]
    },
    {
      "cell_type": "code",
      "source": [
        "with open(\"archivo.txt\", \"w\") as file:\n",
        "    file.write(\"Hola, mundo!\")\n",
        "\n"
      ],
      "metadata": {
        "id": "No9Ayib_monm"
      },
      "execution_count": 10,
      "outputs": []
    },
    {
      "cell_type": "code",
      "source": [
        "with open(\"archivo.txt\", \"w\") as file:\n",
        "    lines = [\"Línea 1\\n\", \"Línea 2\\n\", \"Línea 3\\n\"]\n",
        "    file.writelines(lines)\n"
      ],
      "metadata": {
        "id": "zeDfX3OTmzIW"
      },
      "execution_count": 11,
      "outputs": []
    },
    {
      "cell_type": "code",
      "source": [
        "with open(\"archivo.txt\", \"r+\") as file:\n",
        "    file.seek(0)\n",
        "    data = file.read(20)\n",
        "    print(data)\n"
      ],
      "metadata": {
        "colab": {
          "base_uri": "https://localhost:8080/"
        },
        "id": "xN74BFTjm4QH",
        "outputId": "9fa119ab-2f5a-43c6-9fe6-893f28190f3c"
      },
      "execution_count": 13,
      "outputs": [
        {
          "output_type": "stream",
          "name": "stdout",
          "text": [
            "Línea 1\n",
            "Línea 2\n",
            "Líne\n"
          ]
        }
      ]
    },
    {
      "cell_type": "code",
      "source": [
        "\n",
        "with open(\"archivo.txt\", \"r\") as file:\n",
        "    data = file.read(10)\n",
        "    position = file.tell()\n",
        "    print(\"Datos leídos:\", data)\n",
        "    print(\"Posición actual:\", position)\n"
      ],
      "metadata": {
        "colab": {
          "base_uri": "https://localhost:8080/"
        },
        "id": "df-GG6HTnBi1",
        "outputId": "ece36045-9fe4-414e-c2b3-4b27c74b7e66"
      },
      "execution_count": 14,
      "outputs": [
        {
          "output_type": "stream",
          "name": "stdout",
          "text": [
            "Datos leídos: Línea 1\n",
            "Lí\n",
            "Posición actual: 12\n"
          ]
        }
      ]
    },
    {
      "cell_type": "code",
      "source": [
        "# Función para agregar un nuevo registro a la base de datos\n",
        "def agregar_registro(nombre_archivo, nombre, edad, correo):\n",
        "    with open(nombre_archivo, \"a\") as file:\n",
        "        # Escribir los datos del nuevo registro en el archivo\n",
        "        file.write(f\"{nombre},{edad},{correo}\\n\")\n",
        "    print(\"Registro agregado con éxito.\")\n",
        "\n",
        "# Función para mostrar todos los registros de la base de datos\n",
        "def mostrar_registros(nombre_archivo):\n",
        "    with open(nombre_archivo, \"r\") as file:\n",
        "        # Leer todos los registros del archivo\n",
        "        registros = file.readlines()\n",
        "        # Mostrar cada registro\n",
        "        for registro in registros:\n",
        "            print(registro.strip())\n",
        "\n",
        "# Nombre del archivo que servirá como base de datos\n",
        "nombre_archivo = \"base_datos.txt\"\n",
        "\n",
        "# Agregar algunos registros a la base de datos\n",
        "agregar_registro(nombre_archivo, \"Juan\", \"25\", \"juan@example.com\")\n",
        "agregar_registro(nombre_archivo, \"María\", \"30\", \"maria@example.com\")\n",
        "agregar_registro(nombre_archivo, \"Pedro\", \"40\", \"pedro@example.com\")\n",
        "\n",
        "# Mostrar todos los registros de la base de datos\n",
        "print(\"Registros en la base de datos:\")\n",
        "mostrar_registros(nombre_archivo)\n"
      ],
      "metadata": {
        "colab": {
          "base_uri": "https://localhost:8080/"
        },
        "id": "0QeoCMTKnX_N",
        "outputId": "1653a84f-c5d7-4c87-f183-d01789cd827c"
      },
      "execution_count": 15,
      "outputs": [
        {
          "output_type": "stream",
          "name": "stdout",
          "text": [
            "Registro agregado con éxito.\n",
            "Registro agregado con éxito.\n",
            "Registro agregado con éxito.\n",
            "Registros en la base de datos:\n",
            "Juan,25,juan@example.com\n",
            "María,30,maria@example.com\n",
            "Pedro,40,pedro@example.com\n"
          ]
        }
      ]
    },
    {
      "cell_type": "code",
      "source": [
        "import pandas as pd\n",
        "\n",
        "# Leer el archivo de texto y crear un DataFrame\n",
        "df = pd.read_csv(\"base_datos.txt\", sep=\",\")\n",
        "\n",
        "# Mostrar el DataFrame\n",
        "print(df)\n"
      ],
      "metadata": {
        "colab": {
          "base_uri": "https://localhost:8080/"
        },
        "id": "0I-3iYbynkOW",
        "outputId": "5562b927-a7b6-485f-c2b7-28de65e16713"
      },
      "execution_count": 16,
      "outputs": [
        {
          "output_type": "stream",
          "name": "stdout",
          "text": [
            "    Juan  25   juan@example.com\n",
            "0  María  30  maria@example.com\n",
            "1  Pedro  40  pedro@example.com\n"
          ]
        }
      ]
    }
  ]
}