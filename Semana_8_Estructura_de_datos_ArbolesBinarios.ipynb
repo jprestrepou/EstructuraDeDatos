{
  "nbformat": 4,
  "nbformat_minor": 0,
  "metadata": {
    "colab": {
      "provenance": []
    },
    "kernelspec": {
      "name": "python3",
      "display_name": "Python 3"
    },
    "language_info": {
      "name": "python"
    }
  },
  "cells": [
    {
      "cell_type": "code",
      "execution_count": null,
      "metadata": {
        "id": "JP0GD6xBnIOF"
      },
      "outputs": [],
      "source": [
        "class Nodo:\n",
        "    def __init__(self, dato):\n",
        "        # \"dato\" puede ser de cualquier tipo, incluso un objeto si se sobrescriben los operadores de comparación\n",
        "        self.dato = dato\n",
        "        self.izquierda = None\n",
        "        self.derecha = None\n",
        "\n",
        "class Arbol:\n",
        "    # Funciones privadas\n",
        "    def __init__(self, dato):\n",
        "        self.raiz = Nodo(dato)\n",
        "\n",
        "    def __agregar_recursivo(self, nodo, dato):\n",
        "        if dato < nodo.dato:\n",
        "            if nodo.izquierda is None:\n",
        "                nodo.izquierda = Nodo(dato)\n",
        "            else:\n",
        "                self.__agregar_recursivo(nodo.izquierda, dato)\n",
        "        else:\n",
        "            if nodo.derecha is None:\n",
        "                nodo.derecha = Nodo(dato)\n",
        "            else:\n",
        "                self.__agregar_recursivo(nodo.derecha, dato)\n",
        "\n",
        "    def __inorden_recursivo(self, nodo):\n",
        "        if nodo is not None:\n",
        "            self.__inorden_recursivo(nodo.izquierda)\n",
        "            print(nodo.dato, end=\", \")\n",
        "            self.__inorden_recursivo(nodo.derecha)\n",
        "\n",
        "    def __preorden_recursivo(self, nodo):\n",
        "        if nodo is not None:\n",
        "            print(nodo.dato, end=\", \")\n",
        "            self.__preorden_recursivo(nodo.izquierda)\n",
        "            self.__preorden_recursivo(nodo.derecha)\n",
        "\n",
        "    def __postorden_recursivo(self, nodo):\n",
        "        if nodo is not None:\n",
        "            self.__postorden_recursivo(nodo.izquierda)\n",
        "            self.__postorden_recursivo(nodo.derecha)\n",
        "            print(nodo.dato, end=\", \")\n",
        "\n",
        "    def __buscar(self, nodo, busqueda):\n",
        "        if nodo is None:\n",
        "            return None\n",
        "        if nodo.dato == busqueda:\n",
        "            return nodo\n",
        "        if busqueda < nodo.dato:\n",
        "            return self.__buscar(nodo.izquierda, busqueda)\n",
        "        else:\n",
        "            return self.__buscar(nodo.derecha, busqueda)\n",
        "\n",
        "    def __eliminar_recursivo(self, nodo, dato):\n",
        "        if nodo is None:\n",
        "            return nodo\n",
        "\n",
        "        # Buscar el nodo a eliminar\n",
        "        if dato < nodo.dato:\n",
        "            nodo.izquierda = self.__eliminar_recursivo(nodo.izquierda, dato)\n",
        "        elif dato > nodo.dato:\n",
        "            nodo.derecha = self.__eliminar_recursivo(nodo.derecha, dato)\n",
        "        else:\n",
        "            # Nodo encontrado, proceder a eliminarlo\n",
        "            if nodo.izquierda is None:\n",
        "                return nodo.derecha\n",
        "            elif nodo.derecha is None:\n",
        "                return nodo.izquierda\n",
        "\n",
        "            # Si el nodo tiene dos hijos, encontrar el sucesor inorden\n",
        "            sucesor = self.__minimo_valor_nodo(nodo.derecha)\n",
        "\n",
        "            # Copiar el sucesor inorden al nodo actual\n",
        "            nodo.dato = sucesor.dato\n",
        "\n",
        "            # Eliminar el sucesor inorden\n",
        "            nodo.derecha = self.__eliminar_recursivo(nodo.derecha, sucesor.dato)\n",
        "\n",
        "        return nodo\n",
        "\n",
        "    def __minimo_valor_nodo(self, nodo):\n",
        "        actual = nodo\n",
        "        while actual.izquierda is not None:\n",
        "            actual = actual.izquierda\n",
        "        return actual\n",
        "\n",
        "    def __nivel_elemento_recursivo(self, nodo, dato, nivel):\n",
        "      if nodo is None:\n",
        "          return 0\n",
        "\n",
        "      if nodo.dato == dato:\n",
        "          return nivel\n",
        "\n",
        "      nivel_izquierda = self.__nivel_elemento_recursivo(nodo.izquierda, dato, nivel + 1)\n",
        "      if nivel_izquierda != 0:\n",
        "          return nivel_izquierda\n",
        "\n",
        "      nivel_derecha = self.__nivel_elemento_recursivo(nodo.derecha, dato, nivel + 1)\n",
        "      return nivel_derecha\n",
        "\n",
        "    def __altura_arbol_recursivo(self, nodo):\n",
        "        if nodo is None:\n",
        "            return 0\n",
        "\n",
        "        altura_izquierda = self.__altura_arbol_recursivo(nodo.izquierda)\n",
        "        altura_derecha = self.__altura_arbol_recursivo(nodo.derecha)\n",
        "\n",
        "        return max(altura_izquierda, altura_derecha) + 1\n",
        "\n",
        "    # Funciones públicas\n",
        "\n",
        "    def agregar(self, dato):\n",
        "        self.__agregar_recursivo(self.raiz, dato)\n",
        "\n",
        "    def inorden(self):\n",
        "        print(\"Imprimiendo árbol inorden: \")\n",
        "        self.__inorden_recursivo(self.raiz)\n",
        "        print(\"\")\n",
        "\n",
        "    def preorden(self):\n",
        "        print(\"Imprimiendo árbol preorden: \")\n",
        "        self.__preorden_recursivo(self.raiz)\n",
        "        print(\"\")\n",
        "\n",
        "    def postorden(self):\n",
        "        print(\"Imprimiendo árbol postorden: \")\n",
        "        self.__postorden_recursivo(self.raiz)\n",
        "        print(\"\")\n",
        "\n",
        "    def buscar(self, busqueda):\n",
        "        return self.__buscar(self.raiz, busqueda)\n",
        "\n",
        "    def eliminar(self, dato):\n",
        "        self.raiz = self.__eliminar_recursivo(self.raiz, dato)\n",
        "\n",
        "    def vaciar(self):\n",
        "        self.raiz = None\n",
        "\n",
        "    def camino_recorrido(self, dato):\n",
        "      camino = []\n",
        "\n",
        "      def encontrar_camino(nodo, dato, camino_actual):\n",
        "          if nodo is None:\n",
        "              return False, []  # Devolver una tupla vacía indicando que el nodo no se encontró\n",
        "\n",
        "          camino_actual.append(nodo.dato)\n",
        "          if nodo.dato == dato:\n",
        "              return True, camino_actual\n",
        "\n",
        "          encontrado_izquierda, camino_izquierda = encontrar_camino(nodo.izquierda, dato, camino_actual)\n",
        "          if encontrado_izquierda:\n",
        "              return True, camino_izquierda\n",
        "\n",
        "          encontrado_derecha, camino_derecha = encontrar_camino(nodo.derecha, dato, camino_actual)\n",
        "          if encontrado_derecha:\n",
        "              return True, camino_derecha\n",
        "\n",
        "          camino_actual.pop()\n",
        "          return False, []\n",
        "\n",
        "      encontrado, camino = encontrar_camino(self.raiz, dato, camino)\n",
        "\n",
        "      return camino if encontrado else None\n",
        "\n",
        "    def nivel_elemento(self, dato):\n",
        "        return self.__nivel_elemento_recursivo(self.raiz, dato, 1)\n",
        "\n",
        "    def altura_arbol(self):\n",
        "        return self.__altura_arbol_recursivo(self.raiz)\n",
        "\n",
        "    def obtener_subarbol(self, dato):\n",
        "        nodo = self.buscar(dato)\n",
        "        if nodo is None:\n",
        "            return None\n",
        "        subarbol = Arbol(nodo.dato)\n",
        "        subarbol.raiz.izquierda = nodo.izquierda\n",
        "        subarbol.raiz.derecha = nodo.derecha\n",
        "        return subarbol"
      ]
    },
    {
      "cell_type": "markdown",
      "source": [
        "# ***Agregar Elementos al Árbol***"
      ],
      "metadata": {
        "id": "Emf8tNLtEwlx"
      }
    },
    {
      "cell_type": "code",
      "source": [
        "arbol = Arbol(10)\n",
        "arbol.agregar(5)\n",
        "arbol.agregar(15)\n",
        "arbol.agregar(3)\n",
        "arbol.agregar(7)"
      ],
      "metadata": {
        "id": "kixwIyLVEu65"
      },
      "execution_count": null,
      "outputs": []
    },
    {
      "cell_type": "markdown",
      "source": [
        "# ***Imprimir el Árbol en Inorden, Preorden y Postorden***"
      ],
      "metadata": {
        "id": "LzbP9qeOE3ww"
      }
    },
    {
      "cell_type": "code",
      "source": [
        "print(\"Inorden:\")\n",
        "arbol.inorden()\n",
        "\n",
        "print(\"Preorden:\")\n",
        "arbol.preorden()\n",
        "\n",
        "print(\"Postorden:\")\n",
        "arbol.postorden()"
      ],
      "metadata": {
        "colab": {
          "base_uri": "https://localhost:8080/"
        },
        "id": "JpvBoB2MEvqf",
        "outputId": "f7bc7589-baf1-4ba0-848e-f417ec841286"
      },
      "execution_count": null,
      "outputs": [
        {
          "output_type": "stream",
          "name": "stdout",
          "text": [
            "Inorden:\n",
            "Imprimiendo árbol inorden: \n",
            "3, 5, 7, 10, 15, \n",
            "Preorden:\n",
            "Imprimiendo árbol preorden: \n",
            "10, 5, 3, 7, 15, \n",
            "Postorden:\n",
            "Imprimiendo árbol postorden: \n",
            "3, 7, 5, 15, 10, \n"
          ]
        }
      ]
    },
    {
      "cell_type": "markdown",
      "source": [
        "# ***Buscar un Elemento en el Árbol***"
      ],
      "metadata": {
        "id": "2ZzebB7sE_dY"
      }
    },
    {
      "cell_type": "code",
      "source": [
        "nodo_buscado = arbol.buscar(15)\n",
        "if nodo_buscado:\n",
        "    print(\"El nodo con el valor 15 está en el árbol.\")\n",
        "else:\n",
        "    print(\"El nodo con el valor 15 no está en el árbol.\")"
      ],
      "metadata": {
        "colab": {
          "base_uri": "https://localhost:8080/"
        },
        "id": "waynHwX6FCug",
        "outputId": "0f9c19b1-1fea-4e8e-b198-a3924c776938"
      },
      "execution_count": null,
      "outputs": [
        {
          "output_type": "stream",
          "name": "stdout",
          "text": [
            "El nodo con el valor 15 está en el árbol.\n"
          ]
        }
      ]
    },
    {
      "cell_type": "markdown",
      "source": [
        "# ***Eliminar un Elemento del Árbol***"
      ],
      "metadata": {
        "id": "NYPUO5ZkFHjP"
      }
    },
    {
      "cell_type": "code",
      "source": [
        "arbol.eliminar(7)\n",
        "\n",
        "arbol.inorden()"
      ],
      "metadata": {
        "colab": {
          "base_uri": "https://localhost:8080/"
        },
        "id": "s3-iR2G1FG73",
        "outputId": "0fb5570d-3039-4101-9948-6a498243396e"
      },
      "execution_count": null,
      "outputs": [
        {
          "output_type": "stream",
          "name": "stdout",
          "text": [
            "Imprimiendo árbol inorden: \n",
            "3, 5, 10, 15, \n"
          ]
        }
      ]
    },
    {
      "cell_type": "markdown",
      "source": [
        "# ***Vaciar el Árbol***"
      ],
      "metadata": {
        "id": "HJCjtadZFPmb"
      }
    },
    {
      "cell_type": "code",
      "source": [
        "arbol.vaciar()\n",
        "\n",
        "arbol.inorden()"
      ],
      "metadata": {
        "colab": {
          "base_uri": "https://localhost:8080/"
        },
        "id": "1LPSHpl6FSQW",
        "outputId": "a03ca098-139c-4e5b-fbd6-a450378fa9c0"
      },
      "execution_count": null,
      "outputs": [
        {
          "output_type": "stream",
          "name": "stdout",
          "text": [
            "Imprimiendo árbol inorden: \n",
            "\n"
          ]
        }
      ]
    },
    {
      "cell_type": "markdown",
      "source": [
        "# ***Camino Recorrido hasta un Elemento***"
      ],
      "metadata": {
        "id": "9xcxDraDFVCu"
      }
    },
    {
      "cell_type": "code",
      "source": [
        "camino = arbol.camino_recorrido(3)\n",
        "print(\"Camino recorrido hasta el nodo con valor 3:\", camino)"
      ],
      "metadata": {
        "colab": {
          "base_uri": "https://localhost:8080/"
        },
        "id": "ODiffrJaFVOL",
        "outputId": "80240edd-86e5-461a-90c6-1b5fe4e83315"
      },
      "execution_count": null,
      "outputs": [
        {
          "output_type": "stream",
          "name": "stdout",
          "text": [
            "Camino recorrido hasta el nodo con valor 3: [10, 5, 3]\n"
          ]
        }
      ]
    },
    {
      "cell_type": "markdown",
      "source": [
        "# ***Nivel de un Elemento***"
      ],
      "metadata": {
        "id": "aHC0eTcoFbbn"
      }
    },
    {
      "cell_type": "code",
      "source": [
        "nivel = arbol.nivel_elemento(15)\n",
        "print(\"Nivel del elemento con valor 15:\", nivel)"
      ],
      "metadata": {
        "colab": {
          "base_uri": "https://localhost:8080/"
        },
        "id": "LZIkaI82FbiJ",
        "outputId": "d16d052e-823a-49d8-f6e9-7addf6b5b691"
      },
      "execution_count": null,
      "outputs": [
        {
          "output_type": "stream",
          "name": "stdout",
          "text": [
            "Nivel del elemento con valor 15: 2\n"
          ]
        }
      ]
    },
    {
      "cell_type": "markdown",
      "source": [
        "# ***Subárbol***"
      ],
      "metadata": {
        "id": "0jJuMp3dFn_c"
      }
    },
    {
      "cell_type": "code",
      "source": [
        "subarbol = arbol.obtener_subarbol(10)\n",
        "print(\"Subárbol del nodo con valor 10:\")\n",
        "subarbol.inorden()"
      ],
      "metadata": {
        "colab": {
          "base_uri": "https://localhost:8080/"
        },
        "id": "jrR8eavvFoEl",
        "outputId": "1e66bc24-8914-4e6f-e83c-b0364ff44145"
      },
      "execution_count": null,
      "outputs": [
        {
          "output_type": "stream",
          "name": "stdout",
          "text": [
            "Subárbol del nodo con valor 10:\n",
            "Imprimiendo árbol inorden: \n",
            "3, 5, 10, 15, \n"
          ]
        }
      ]
    },
    {
      "cell_type": "markdown",
      "source": [
        "# ***Librerias***"
      ],
      "metadata": {
        "id": "SLJgUXQjuWml"
      }
    },
    {
      "cell_type": "code",
      "source": [
        "pip install binarytree"
      ],
      "metadata": {
        "colab": {
          "base_uri": "https://localhost:8080/"
        },
        "id": "J6GaDjLguVhs",
        "outputId": "e457f881-f0e7-4380-dc4f-3129b7df729a"
      },
      "execution_count": 1,
      "outputs": [
        {
          "output_type": "stream",
          "name": "stdout",
          "text": [
            "Collecting binarytree\n",
            "  Downloading binarytree-6.5.1-py3-none-any.whl (18 kB)\n",
            "Requirement already satisfied: graphviz in /usr/local/lib/python3.10/dist-packages (from binarytree) (0.20.3)\n",
            "Requirement already satisfied: setuptools>=60.8.2 in /usr/local/lib/python3.10/dist-packages (from binarytree) (67.7.2)\n",
            "Collecting setuptools-scm[toml]>=5.0.1 (from binarytree)\n",
            "  Downloading setuptools_scm-8.0.4-py3-none-any.whl (42 kB)\n",
            "\u001b[2K     \u001b[90m━━━━━━━━━━━━━━━━━━━━━━━━━━━━━━━━━━━━━━━━\u001b[0m \u001b[32m42.1/42.1 kB\u001b[0m \u001b[31m1.4 MB/s\u001b[0m eta \u001b[36m0:00:00\u001b[0m\n",
            "\u001b[?25hRequirement already satisfied: packaging>=20 in /usr/local/lib/python3.10/dist-packages (from setuptools-scm[toml]>=5.0.1->binarytree) (24.0)\n",
            "Requirement already satisfied: typing-extensions in /usr/local/lib/python3.10/dist-packages (from setuptools-scm[toml]>=5.0.1->binarytree) (4.10.0)\n",
            "Requirement already satisfied: tomli>=1 in /usr/local/lib/python3.10/dist-packages (from setuptools-scm[toml]>=5.0.1->binarytree) (2.0.1)\n",
            "Installing collected packages: setuptools-scm, binarytree\n",
            "Successfully installed binarytree-6.5.1 setuptools-scm-8.0.4\n"
          ]
        }
      ]
    },
    {
      "cell_type": "code",
      "source": [
        "from binarytree import Node\n",
        "\n",
        "root = Node(1)\n",
        "root.left = Node(2)\n",
        "root.right = Node(3)\n",
        "\n",
        "root.left.left = Node(4)\n",
        "root.left.right = Node(5)\n",
        "root.right.left = Node(6)\n",
        "root.right.right = Node(7)\n",
        "\n",
        "print(root)\n"
      ],
      "metadata": {
        "colab": {
          "base_uri": "https://localhost:8080/"
        },
        "id": "lm34Yu3fubC0",
        "outputId": "cea97b9e-47d1-47f1-de29-5c6d22bab928"
      },
      "execution_count": 3,
      "outputs": [
        {
          "output_type": "stream",
          "name": "stdout",
          "text": [
            "\n",
            "    __1__\n",
            "   /     \\\n",
            "  2       3\n",
            " / \\     / \\\n",
            "4   5   6   7\n",
            "\n"
          ]
        }
      ]
    },
    {
      "cell_type": "code",
      "source": [
        "print(\"Recorrido preorden:\", root.preorder)\n",
        "print(\"Recorrido inorden:\", root.inorder)\n",
        "print(\"Recorrido postorden:\", root.postorder)"
      ],
      "metadata": {
        "colab": {
          "base_uri": "https://localhost:8080/"
        },
        "id": "7IJbrBuWvCQC",
        "outputId": "17c0bcc9-c357-4027-9949-3cf9ac2cb1f7"
      },
      "execution_count": 4,
      "outputs": [
        {
          "output_type": "stream",
          "name": "stdout",
          "text": [
            "Recorrido preorden: [Node(1), Node(2), Node(4), Node(5), Node(3), Node(6), Node(7)]\n",
            "Recorrido inorden: [Node(4), Node(2), Node(5), Node(1), Node(6), Node(3), Node(7)]\n",
            "Recorrido postorden: [Node(4), Node(5), Node(2), Node(6), Node(7), Node(3), Node(1)]\n"
          ]
        }
      ]
    }
  ]
}