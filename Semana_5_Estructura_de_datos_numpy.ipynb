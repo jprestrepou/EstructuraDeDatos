{
  "nbformat": 4,
  "nbformat_minor": 0,
  "metadata": {
    "colab": {
      "provenance": []
    },
    "kernelspec": {
      "name": "python3",
      "display_name": "Python 3"
    },
    "language_info": {
      "name": "python"
    }
  },
  "cells": [
    {
      "cell_type": "markdown",
      "source": [
        "# **Multiplicación de matrices**"
      ],
      "metadata": {
        "id": "F0fLIrbtJfrn"
      }
    },
    {
      "cell_type": "code",
      "execution_count": 1,
      "metadata": {
        "colab": {
          "base_uri": "https://localhost:8080/"
        },
        "id": "F2h_js3BJd6G",
        "outputId": "9f7549bf-90cb-41e9-b547-a9e8abd3bbd2"
      },
      "outputs": [
        {
          "output_type": "stream",
          "name": "stdout",
          "text": [
            "Resultado de la multiplicación de matrices:\n",
            "[[0.98003335 0.70356552 1.40084179]\n",
            " [0.64763675 0.27878043 1.01688051]\n",
            " [1.44132745 0.97412856 1.79283859]]\n"
          ]
        }
      ],
      "source": [
        "import numpy as np\n",
        "\n",
        "A = np.random.rand(3, 3)\n",
        "B = np.random.rand(3, 3)\n",
        "\n",
        "resultado = np.dot(A, B)\n",
        "print(\"Resultado de la multiplicación de matrices:\")\n",
        "print(resultado)"
      ]
    },
    {
      "cell_type": "markdown",
      "source": [
        "# **Vectorización de operaciones**\n"
      ],
      "metadata": {
        "id": "SEwtqMipJje8"
      }
    },
    {
      "cell_type": "code",
      "source": [
        "arr = np.array([1, 2, 3, 4, 5])\n",
        "\n",
        "suma_total = np.sum(arr)\n",
        "print(\"Suma total de los elementos del array:\", suma_total)\n"
      ],
      "metadata": {
        "colab": {
          "base_uri": "https://localhost:8080/"
        },
        "id": "2-CWjkciJuYW",
        "outputId": "9d66c01e-4623-4741-82be-5042a708ca0a"
      },
      "execution_count": 2,
      "outputs": [
        {
          "output_type": "stream",
          "name": "stdout",
          "text": [
            "Suma total de los elementos del array: 15\n"
          ]
        }
      ]
    },
    {
      "cell_type": "markdown",
      "source": [
        "# **Broadcasting**"
      ],
      "metadata": {
        "id": "wx67b55NJ3jm"
      }
    },
    {
      "cell_type": "code",
      "source": [
        "arr = np.array([1, 2, 3, 4, 5])\n",
        "\n",
        "resultado = arr + 2\n",
        "print(\"Resultado de la suma con broadcasting:\")\n",
        "print(resultado)"
      ],
      "metadata": {
        "colab": {
          "base_uri": "https://localhost:8080/"
        },
        "id": "DcVcV8q6KFeQ",
        "outputId": "9f4fb249-21f9-46ad-e5d0-0c59c152d99a"
      },
      "execution_count": 3,
      "outputs": [
        {
          "output_type": "stream",
          "name": "stdout",
          "text": [
            "Resultado de la suma con broadcasting:\n",
            "[3 4 5 6 7]\n"
          ]
        }
      ]
    },
    {
      "cell_type": "code",
      "source": [
        "a = np.array([[1, 2, 3],\n",
        "              [4, 5, 6],\n",
        "              [7, 8, 9]])\n",
        "result = a + 5\n",
        "\n",
        "print(result)"
      ],
      "metadata": {
        "colab": {
          "base_uri": "https://localhost:8080/"
        },
        "id": "SeO-30zUqsbQ",
        "outputId": "f7ccc7cf-f3a5-47b9-8cde-ba66349621d2"
      },
      "execution_count": 5,
      "outputs": [
        {
          "output_type": "stream",
          "name": "stdout",
          "text": [
            "[[ 6  7  8]\n",
            " [ 9 10 11]\n",
            " [12 13 14]]\n"
          ]
        }
      ]
    },
    {
      "cell_type": "code",
      "source": [
        "a = np.array([[1, 2, 3],\n",
        "              [4, 5, 6],\n",
        "              [7, 8, 9]])\n",
        "\n",
        "b = np.array([10, 20, 30])\n",
        "\n",
        "result = a * b\n",
        "\n",
        "print(result)"
      ],
      "metadata": {
        "colab": {
          "base_uri": "https://localhost:8080/"
        },
        "id": "tibFF6R7qx3O",
        "outputId": "3133155d-8da8-4e78-f126-261b34505ee3"
      },
      "execution_count": 6,
      "outputs": [
        {
          "output_type": "stream",
          "name": "stdout",
          "text": [
            "[[ 10  40  90]\n",
            " [ 40 100 180]\n",
            " [ 70 160 270]]\n"
          ]
        }
      ]
    },
    {
      "cell_type": "code",
      "source": [
        "a = np.array([[1, 2, 3],\n",
        "              [4, 5, 6],\n",
        "              [7, 8, 9]])\n",
        "\n",
        "b = np.array([10, 20, 30])\n",
        "\n",
        "result = a + b\n",
        "\n",
        "print(result)"
      ],
      "metadata": {
        "colab": {
          "base_uri": "https://localhost:8080/"
        },
        "id": "9Zo3xHcgq3dM",
        "outputId": "a440fc20-3cd8-4113-e59c-08b4a9bc9510"
      },
      "execution_count": 7,
      "outputs": [
        {
          "output_type": "stream",
          "name": "stdout",
          "text": [
            "[[11 22 33]\n",
            " [14 25 36]\n",
            " [17 28 39]]\n"
          ]
        }
      ]
    },
    {
      "cell_type": "markdown",
      "source": [
        "# **Indexación y segmentación avanzadas**"
      ],
      "metadata": {
        "id": "AWdv1J6NKLZl"
      }
    },
    {
      "cell_type": "code",
      "source": [
        "arr = np.array([1, 2, 3, 4, 5])\n",
        "\n",
        "resultado = arr[arr > 2]\n",
        "print(\"Elementos mayores que 2:\", resultado)"
      ],
      "metadata": {
        "colab": {
          "base_uri": "https://localhost:8080/"
        },
        "id": "mMmfG2SuKLC8",
        "outputId": "c23c6a5d-5ea5-42fc-874b-780a133a4cda"
      },
      "execution_count": 11,
      "outputs": [
        {
          "output_type": "stream",
          "name": "stdout",
          "text": [
            "Elementos mayores que 2: [3 4 5]\n"
          ]
        }
      ]
    },
    {
      "cell_type": "code",
      "source": [
        "matriz_tridimensional = np.array([[[1, 2, 3],\n",
        "                                   [4, 5, 6],\n",
        "                                   [7, 8, 9]],\n",
        "\n",
        "                                  [[10, 11, 12],\n",
        "                                   [13, 14, 15],\n",
        "                                   [16, 17, 18]],\n",
        "\n",
        "                                  [[19, 20, 21],\n",
        "                                   [22, 23, 24],\n",
        "                                   [25, 26, 27]]])\n",
        "\n",
        "elemento = matriz_tridimensional[1, 2, 0]\n",
        "print(\"Elemento en la posición (1, 2, 0):\", elemento)\n",
        "\n",
        "submatriz = matriz_tridimensional[:, 1:, :]\n",
        "print(\"\\nSubmatriz:\\n\", submatriz)\n"
      ],
      "metadata": {
        "colab": {
          "base_uri": "https://localhost:8080/"
        },
        "id": "Y87X0lJ5rL7E",
        "outputId": "6a76511c-f0e9-4ca8-d137-03f64ce43288"
      },
      "execution_count": 10,
      "outputs": [
        {
          "output_type": "stream",
          "name": "stdout",
          "text": [
            "Elemento en la posición (1, 2, 0): 16\n",
            "\n",
            "Submatriz:\n",
            " [[[ 4  5  6]\n",
            "  [ 7  8  9]]\n",
            "\n",
            " [[13 14 15]\n",
            "  [16 17 18]]\n",
            "\n",
            " [[22 23 24]\n",
            "  [25 26 27]]]\n"
          ]
        }
      ]
    },
    {
      "cell_type": "markdown",
      "source": [
        "# **Herramientas para álgebra lineal y estadísticas**"
      ],
      "metadata": {
        "id": "kQwfnxnFKUKg"
      }
    },
    {
      "cell_type": "code",
      "source": [
        "arr = np.array([1, 2, 3, 4, 5])\n",
        "\n",
        "media = np.mean(arr)\n",
        "desviacion_estandar = np.std(arr)\n",
        "print(\"Media del array:\", media)\n",
        "print(\"Desviación estándar del array:\", desviacion_estandar)"
      ],
      "metadata": {
        "colab": {
          "base_uri": "https://localhost:8080/"
        },
        "id": "HzpzJQ85KXpk",
        "outputId": "f7a8508b-b6c7-4416-cb34-ae29d47a24e9"
      },
      "execution_count": 9,
      "outputs": [
        {
          "output_type": "stream",
          "name": "stdout",
          "text": [
            "Media del array: 3.0\n",
            "Desviación estándar del array: 1.4142135623730951\n"
          ]
        }
      ]
    }
  ]
}